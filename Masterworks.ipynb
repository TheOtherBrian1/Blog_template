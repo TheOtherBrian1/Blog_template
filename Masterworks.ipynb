{
  "cells": [
    {
      "cell_type": "markdown",
      "metadata": {
        "id": "view-in-github",
        "colab_type": "text"
      },
      "source": [
        "<a href=\"https://colab.research.google.com/github/TheOtherBrian1/Blog_template/blob/main/Masterworks.ipynb\" target=\"_parent\"><img src=\"https://colab.research.google.com/assets/colab-badge.svg\" alt=\"Open In Colab\"/></a>"
      ]
    },
    {
      "cell_type": "markdown",
      "id": "eadd488c",
      "metadata": {
        "id": "eadd488c"
      },
      "source": [
        "<h1>Masterworks</h1>\n",
        "<a href = \"https://drive.google.com/file/d/10Bsf0oopJYivXPt-q86EhULU3z2dIRzd/view?usp=sharing\">Link</a> to problem set\n",
        "\n",
        "<h4>Contents</h4>\n",
        "\n",
        "<ul>\n",
        "    <li>\n",
        "        <a href = 'https://colab.research.google.com/drive/1JGVZZ8SXORBoF6ayguXmbuTLH9AalLIu?authuser=1#scrollTo=cea63916&line=1&uniqifier=1' target = '_self'>Part A </a>\n",
        "        <ul>\n",
        "            <li>\n",
        "                <a href = 'https://colab.research.google.com/drive/1JGVZZ8SXORBoF6ayguXmbuTLH9AalLIu?authuser=1#scrollTo=cea63916&line=1&uniqifier=1'>1:</a> [Write both a Python and SQL script to create] a table where every row lists the number of investors and the total amount invested in each offering, further grouped by the state investors reside in.\n",
        "            </li>\n",
        "            <li>\n",
        "                <a href = 'https://colab.research.google.com/drive/1JGVZZ8SXORBoF6ayguXmbuTLH9AalLIu?authuser=1#scrollTo=7162b80d&line=1&uniqifier=1'>2:</a> [Write both a Python and SQL script to create] two tables, based on the one above, shaped in a way that a value can be found by selecting a row and a column. <a href = 'https://colab.research.google.com/drive/1JGVZZ8SXORBoF6ayguXmbuTLH9AalLIu?authuser=1#scrollTo=d4d26815&line=1&uniqifier=1'>(Link to Conclusion)</a>\n",
        "            </li>\n",
        "        </ul>\n",
        "    </li>\n",
        "</ul>\n",
        "<ul>\n",
        "    <li>\n",
        "        <a href = 'https://colab.research.google.com/drive/1JGVZZ8SXORBoF6ayguXmbuTLH9AalLIu?authuser=1#scrollTo=a57ddec1&line=1&uniqifier=1'>Part B </a>\n",
        "        <ul>\n",
        "            <li>\n",
        "                <a href = 'https://colab.research.google.com/drive/1JGVZZ8SXORBoF6ayguXmbuTLH9AalLIu?authuser=1#scrollTo=a57ddec1&line=1&uniqifier=1'>1:</a> [Write an SQL script to create] a table whose entries reflect the total amount paid, relative to when its underlying orders were created, grouped by calendar month.\n",
        "            </li>\n",
        "            <li>\n",
        "                <a href = 'https://colab.research.google.com/drive/1JGVZZ8SXORBoF6ayguXmbuTLH9AalLIu?authuser=1#scrollTo=a57ddec1&line=1&uniqifier=1'>2:</a> [Write a Python script to answer the following question:] what causes some payments to get paid later than others? Can we model thedifference between when an order was created and when it was paid?\n",
        "            </li>\n",
        "        </ul>\n",
        "    </li> \n",
        "</ul>\n",
        "\n",
        "<h4>Note:</h4>\n",
        "    <ul>\n",
        "        <li>\n",
        "            All SQL was written for <a href = \"https://www.postgresql.org/\">PostgreSQL</a>\n",
        "        </li>\n",
        "        <li>\n",
        "            The following libraries were used\n",
        "        </li>\n",
        "        <ul>\n",
        "            <li>pandas</li>\n",
        "            <li>psycopg2: used to create views and tables in PostgreSQL</li>\n",
        "            <li>sqlalchemy: used to convert queried data into pandas dataframes</li>\n",
        "            <li>seaborn: data visualization</li>\n",
        "            <li>numpy: data formatting and helper funcitons</li>\n",
        "            <li>matplot: data visualization</li>\n",
        "            <li>scipy: T-testing</li>\n",
        "        </ul>\n",
        "    </ul>"
      ]
    },
    {
      "cell_type": "code",
      "source": [
        "from google.colab import drive\n",
        "drive.mount('/content/drive')"
      ],
      "metadata": {
        "colab": {
          "base_uri": "https://localhost:8080/"
        },
        "id": "UAFDmpKv7X2p",
        "outputId": "cafd7018-8c02-4a7d-d225-bb3b087f4050"
      },
      "id": "UAFDmpKv7X2p",
      "execution_count": null,
      "outputs": [
        {
          "output_type": "stream",
          "name": "stdout",
          "text": [
            "Mounted at /content/drive\n"
          ]
        }
      ]
    },
    {
      "cell_type": "code",
      "execution_count": null,
      "id": "6909a2f5",
      "metadata": {
        "id": "6909a2f5"
      },
      "outputs": [],
      "source": [
        "#POSTGRESQL VARIABLES, SUBSTITUTE TO RUN ON YOUR OWN MACHINE\n",
        "\n",
        "# user = 'INSERT USER HERE'\n",
        "# database = 'masterworks'\n",
        "# password = \"INSERT PASSWORD HERE\"\n",
        "# host = '127.0.0.1'\n",
        "# port = 'INSERT PORT HERE'\n",
        "\n",
        "#The database is currently hosted on a free Heroku instance.\n",
        "#The details are autogenerated and not associated with any compromisable accounts\n",
        "#Although it's bad practice, I am not concerned with this specific instance getting compromised\n",
        "#As it would cost me no money, and would not threaten any of my other accounts or projects\n",
        "#The database works, but it is painfully slow, as it was not meant for heavy querying\n",
        "\n",
        "# user = 'gymkabjmpaywgo'\n",
        "# database = 'd26vr8kbje21i'\n",
        "# password = \"72fde30f495b5362f616241432bc4a374846cc439cf9c4d828f720d1826db045\"\n",
        "# host = 'ec2-54-204-128-96.compute-1.amazonaws.com'\n",
        "# port = '5432'"
      ]
    },
    {
      "cell_type": "markdown",
      "id": "6678f99d",
      "metadata": {
        "id": "6678f99d"
      },
      "source": [
        "<h4>Importing libraries</h4>"
      ]
    },
    {
      "cell_type": "code",
      "execution_count": null,
      "id": "3a1887e4",
      "metadata": {
        "id": "3a1887e4"
      },
      "outputs": [],
      "source": [
        "import pandas as pd\n",
        "import numpy as np\n",
        "import psycopg2\n",
        "from psycopg2.extensions import ISOLATION_LEVEL_AUTOCOMMIT\n",
        "from sqlalchemy import create_engine\n",
        "import matplotlib.pyplot as plt\n",
        "import seaborn as sns\n",
        "import warnings\n",
        "from scipy.stats import ttest_ind\n",
        "warnings.filterwarnings('ignore')"
      ]
    },
    {
      "cell_type": "markdown",
      "id": "66fcf12e",
      "metadata": {
        "id": "66fcf12e"
      },
      "source": [
        "<h4>Connecting to PostgreSQL</h4>"
      ]
    },
    {
      "cell_type": "code",
      "execution_count": null,
      "id": "a94260ae",
      "metadata": {
        "id": "a94260ae",
        "outputId": "021f7909-92f1-4b11-f7ad-da0be915de53"
      },
      "outputs": [
        {
          "name": "stdout",
          "output_type": "stream",
          "text": [
            "PostgreSQL connected successfully\n"
          ]
        }
      ],
      "source": [
        "connection = psycopg2.connect(\n",
        "    user=user,\n",
        "    database=database,\n",
        "    password=password, \n",
        "    host=host, \n",
        "    port=port\n",
        ")\n",
        "connection.set_isolation_level(ISOLATION_LEVEL_AUTOCOMMIT)\n",
        "psycopg_cursor = connection.cursor()\n",
        "print(\"PostgreSQL connected successfully\")"
      ]
    },
    {
      "cell_type": "markdown",
      "id": "3ccbda2d",
      "metadata": {
        "id": "3ccbda2d"
      },
      "source": [
        "<h4>Creating a Masterworks database for storing views and tables</h4>"
      ]
    },
    {
      "cell_type": "code",
      "execution_count": null,
      "id": "896758a9",
      "metadata": {
        "id": "896758a9",
        "outputId": "7da0d094-02a7-4845-bc19-946e1c36d2e0"
      },
      "outputs": [
        {
          "name": "stdout",
          "output_type": "stream",
          "text": [
            "Database masterworks created\n"
          ]
        }
      ],
      "source": [
        "#Create Masterworks Database if it does not exist\n",
        "\n",
        "query = f\"\"\"\n",
        "    --establish a secondary connection with the database\n",
        "    \n",
        "    --used to circumvent PostgreSQL limitation on creating databases from a remote connection\n",
        "    --while checking to ensure the database does not already exist\n",
        "    \n",
        "    CREATE EXTENSION IF NOT EXISTS dblink;\n",
        "\n",
        "    DO $$\n",
        "        BEGIN\n",
        "            PERFORM dblink_exec(\n",
        "                'password = {password}\n",
        "                 host={host}\n",
        "                 user={user} \n",
        "                 port={port}', \n",
        "                 'CREATE DATABASE masterworks'\n",
        "             );\n",
        "            EXCEPTION \n",
        "                WHEN duplicate_database \n",
        "                THEN RAISE NOTICE '%, skipping', SQLERRM USING ERRCODE = SQLSTATE;\n",
        "        END\n",
        "    $$;\n",
        "    \n",
        "\"\"\"\n",
        "try:\n",
        "    psycopg_cursor.execute(query)\n",
        "    print('Database masterworks created')\n",
        "except:\n",
        "    print('Database already exists')\n",
        "psycopg_cursor.close()"
      ]
    },
    {
      "cell_type": "markdown",
      "id": "b410bf4f",
      "metadata": {
        "id": "b410bf4f"
      },
      "source": [
        "<h4>Establishing a pandas compatible connection with PostgreSQL</h4>"
      ]
    },
    {
      "cell_type": "code",
      "execution_count": null,
      "id": "29da034d",
      "metadata": {
        "id": "29da034d",
        "outputId": "00bcd659-fe6c-425a-8647-5b81197a06c9"
      },
      "outputs": [
        {
          "name": "stdout",
          "output_type": "stream",
          "text": [
            "connected to masterworks database\n"
          ]
        }
      ],
      "source": [
        "#Connect to mastworks database with SQLalchemy, which is compatible with pandas\n",
        "engine = create_engine(f'postgresql://{user}:{password}@{host}:{port}/{database}')\n",
        "second_connection = engine.raw_connection()\n",
        "alchemy_cursor = second_connection.cursor()\n",
        "print(f'connected to {database} database')"
      ]
    },
    {
      "cell_type": "markdown",
      "id": "eea7299f",
      "metadata": {
        "id": "eea7299f"
      },
      "source": [
        "<h4>Converting provided CSVs into dataframes</h4>"
      ]
    },
    {
      "cell_type": "code",
      "execution_count": null,
      "id": "7ca40f6c",
      "metadata": {
        "id": "7ca40f6c",
        "outputId": "2b0b716b-3436-46c2-eda6-935ba4d9fad8"
      },
      "outputs": [
        {
          "name": "stdout",
          "output_type": "stream",
          "text": [
            "table orders already exists\n",
            "table users already exists\n"
          ]
        }
      ],
      "source": [
        "#Creating tables\n",
        "\n",
        "path_to_orders = './mw_sample_data_orders.csv'\n",
        "path_to_users = './mw_sample_data_users.csv'\n",
        "\n",
        "orders_df = pd.read_csv(path_to_orders)\n",
        "users_df = pd.read_csv(path_to_users)\n",
        "try:\n",
        "    orders_df.to_sql('orders', con=engine)\n",
        "except:\n",
        "    print('table orders already exists')\n",
        "\n",
        "try:\n",
        "    users_df.to_sql('users', con=engine)\n",
        "except:\n",
        "    print('table users already exists')"
      ]
    },
    {
      "cell_type": "code",
      "execution_count": null,
      "id": "a0862c04",
      "metadata": {
        "id": "a0862c04",
        "outputId": "f566f985-e646-48b4-c52d-7831a17b9d6b"
      },
      "outputs": [
        {
          "data": {
            "text/html": [
              "<div>\n",
              "<style scoped>\n",
              "    .dataframe tbody tr th:only-of-type {\n",
              "        vertical-align: middle;\n",
              "    }\n",
              "\n",
              "    .dataframe tbody tr th {\n",
              "        vertical-align: top;\n",
              "    }\n",
              "\n",
              "    .dataframe thead th {\n",
              "        text-align: right;\n",
              "    }\n",
              "</style>\n",
              "<table border=\"1\" class=\"dataframe\">\n",
              "  <thead>\n",
              "    <tr style=\"text-align: right;\">\n",
              "      <th></th>\n",
              "      <th>order_created_date</th>\n",
              "      <th>artwork</th>\n",
              "      <th>user</th>\n",
              "      <th>amount</th>\n",
              "      <th>paid_at_date</th>\n",
              "      <th>payment method</th>\n",
              "    </tr>\n",
              "  </thead>\n",
              "  <tbody>\n",
              "    <tr>\n",
              "      <th>0</th>\n",
              "      <td>5/1/2021</td>\n",
              "      <td>Artwork A</td>\n",
              "      <td>User 18</td>\n",
              "      <td>5600</td>\n",
              "      <td>5/10/2021</td>\n",
              "      <td>wire</td>\n",
              "    </tr>\n",
              "    <tr>\n",
              "      <th>1</th>\n",
              "      <td>5/1/2021</td>\n",
              "      <td>Artwork A</td>\n",
              "      <td>User 11</td>\n",
              "      <td>600</td>\n",
              "      <td>5/11/2021</td>\n",
              "      <td>ACH</td>\n",
              "    </tr>\n",
              "    <tr>\n",
              "      <th>2</th>\n",
              "      <td>5/2/2021</td>\n",
              "      <td>Artwork A</td>\n",
              "      <td>User 53</td>\n",
              "      <td>810</td>\n",
              "      <td>5/6/2021</td>\n",
              "      <td>credit_card</td>\n",
              "    </tr>\n",
              "    <tr>\n",
              "      <th>3</th>\n",
              "      <td>5/3/2021</td>\n",
              "      <td>Artwork A</td>\n",
              "      <td>User 27</td>\n",
              "      <td>700</td>\n",
              "      <td>5/3/2021</td>\n",
              "      <td>credit_card</td>\n",
              "    </tr>\n",
              "    <tr>\n",
              "      <th>4</th>\n",
              "      <td>5/4/2021</td>\n",
              "      <td>Artwork A</td>\n",
              "      <td>User 52</td>\n",
              "      <td>5600</td>\n",
              "      <td>5/11/2021</td>\n",
              "      <td>wire</td>\n",
              "    </tr>\n",
              "    <tr>\n",
              "      <th>...</th>\n",
              "      <td>...</td>\n",
              "      <td>...</td>\n",
              "      <td>...</td>\n",
              "      <td>...</td>\n",
              "      <td>...</td>\n",
              "      <td>...</td>\n",
              "    </tr>\n",
              "    <tr>\n",
              "      <th>105</th>\n",
              "      <td>6/20/2021</td>\n",
              "      <td>Artwork C</td>\n",
              "      <td>User 34</td>\n",
              "      <td>200</td>\n",
              "      <td>6/29/2021</td>\n",
              "      <td>debit_card</td>\n",
              "    </tr>\n",
              "    <tr>\n",
              "      <th>106</th>\n",
              "      <td>6/27/2021</td>\n",
              "      <td>Artwork A</td>\n",
              "      <td>User 38</td>\n",
              "      <td>200</td>\n",
              "      <td>7/3/2021</td>\n",
              "      <td>wire</td>\n",
              "    </tr>\n",
              "    <tr>\n",
              "      <th>107</th>\n",
              "      <td>7/1/2021</td>\n",
              "      <td>Artwork C</td>\n",
              "      <td>User 16</td>\n",
              "      <td>1000</td>\n",
              "      <td>7/5/2021</td>\n",
              "      <td>wire</td>\n",
              "    </tr>\n",
              "    <tr>\n",
              "      <th>108</th>\n",
              "      <td>7/7/2021</td>\n",
              "      <td>Artwork C</td>\n",
              "      <td>User 42</td>\n",
              "      <td>5700</td>\n",
              "      <td>7/15/2021</td>\n",
              "      <td>ACH</td>\n",
              "    </tr>\n",
              "    <tr>\n",
              "      <th>109</th>\n",
              "      <td>7/13/2021</td>\n",
              "      <td>Artwork C</td>\n",
              "      <td>User 63</td>\n",
              "      <td>7700</td>\n",
              "      <td>7/20/2021</td>\n",
              "      <td>wire</td>\n",
              "    </tr>\n",
              "  </tbody>\n",
              "</table>\n",
              "<p>110 rows × 6 columns</p>\n",
              "</div>"
            ],
            "text/plain": [
              "    order_created_date    artwork     user  amount paid_at_date payment method\n",
              "0             5/1/2021  Artwork A  User 18    5600    5/10/2021           wire\n",
              "1             5/1/2021  Artwork A  User 11     600    5/11/2021            ACH\n",
              "2             5/2/2021  Artwork A  User 53     810     5/6/2021    credit_card\n",
              "3             5/3/2021  Artwork A  User 27     700     5/3/2021    credit_card\n",
              "4             5/4/2021  Artwork A  User 52    5600    5/11/2021           wire\n",
              "..                 ...        ...      ...     ...          ...            ...\n",
              "105          6/20/2021  Artwork C  User 34     200    6/29/2021     debit_card\n",
              "106          6/27/2021  Artwork A  User 38     200     7/3/2021           wire\n",
              "107           7/1/2021  Artwork C  User 16    1000     7/5/2021           wire\n",
              "108           7/7/2021  Artwork C  User 42    5700    7/15/2021            ACH\n",
              "109          7/13/2021  Artwork C  User 63    7700    7/20/2021           wire\n",
              "\n",
              "[110 rows x 6 columns]"
            ]
          },
          "execution_count": 7,
          "metadata": {},
          "output_type": "execute_result"
        }
      ],
      "source": [
        "pd.set_option('display.max_rows', 12)\n",
        "\n",
        "orders_df"
      ]
    },
    {
      "cell_type": "code",
      "execution_count": null,
      "id": "2922790c",
      "metadata": {
        "id": "2922790c",
        "outputId": "25c059d2-d8bb-4497-b3b2-adfb178abc39"
      },
      "outputs": [
        {
          "data": {
            "text/html": [
              "<div>\n",
              "<style scoped>\n",
              "    .dataframe tbody tr th:only-of-type {\n",
              "        vertical-align: middle;\n",
              "    }\n",
              "\n",
              "    .dataframe tbody tr th {\n",
              "        vertical-align: top;\n",
              "    }\n",
              "\n",
              "    .dataframe thead th {\n",
              "        text-align: right;\n",
              "    }\n",
              "</style>\n",
              "<table border=\"1\" class=\"dataframe\">\n",
              "  <thead>\n",
              "    <tr style=\"text-align: right;\">\n",
              "      <th></th>\n",
              "      <th>user</th>\n",
              "      <th>age</th>\n",
              "      <th>collected_before</th>\n",
              "      <th>state</th>\n",
              "    </tr>\n",
              "  </thead>\n",
              "  <tbody>\n",
              "    <tr>\n",
              "      <th>0</th>\n",
              "      <td>User 1</td>\n",
              "      <td>43</td>\n",
              "      <td>0</td>\n",
              "      <td>CA</td>\n",
              "    </tr>\n",
              "    <tr>\n",
              "      <th>1</th>\n",
              "      <td>User 2</td>\n",
              "      <td>37</td>\n",
              "      <td>0</td>\n",
              "      <td>CA</td>\n",
              "    </tr>\n",
              "    <tr>\n",
              "      <th>2</th>\n",
              "      <td>User 3</td>\n",
              "      <td>38</td>\n",
              "      <td>0</td>\n",
              "      <td>CA</td>\n",
              "    </tr>\n",
              "    <tr>\n",
              "      <th>3</th>\n",
              "      <td>User 4</td>\n",
              "      <td>38</td>\n",
              "      <td>1</td>\n",
              "      <td>CA</td>\n",
              "    </tr>\n",
              "    <tr>\n",
              "      <th>4</th>\n",
              "      <td>User 5</td>\n",
              "      <td>40</td>\n",
              "      <td>0</td>\n",
              "      <td>NY</td>\n",
              "    </tr>\n",
              "    <tr>\n",
              "      <th>...</th>\n",
              "      <td>...</td>\n",
              "      <td>...</td>\n",
              "      <td>...</td>\n",
              "      <td>...</td>\n",
              "    </tr>\n",
              "    <tr>\n",
              "      <th>49</th>\n",
              "      <td>User 69</td>\n",
              "      <td>49</td>\n",
              "      <td>0</td>\n",
              "      <td>CA</td>\n",
              "    </tr>\n",
              "    <tr>\n",
              "      <th>50</th>\n",
              "      <td>User 70</td>\n",
              "      <td>65</td>\n",
              "      <td>0</td>\n",
              "      <td>NY</td>\n",
              "    </tr>\n",
              "    <tr>\n",
              "      <th>51</th>\n",
              "      <td>User 72</td>\n",
              "      <td>49</td>\n",
              "      <td>0</td>\n",
              "      <td>TX</td>\n",
              "    </tr>\n",
              "    <tr>\n",
              "      <th>52</th>\n",
              "      <td>User 76</td>\n",
              "      <td>53</td>\n",
              "      <td>0</td>\n",
              "      <td>CA</td>\n",
              "    </tr>\n",
              "    <tr>\n",
              "      <th>53</th>\n",
              "      <td>User 76</td>\n",
              "      <td>47</td>\n",
              "      <td>0</td>\n",
              "      <td>CA</td>\n",
              "    </tr>\n",
              "  </tbody>\n",
              "</table>\n",
              "<p>54 rows × 4 columns</p>\n",
              "</div>"
            ],
            "text/plain": [
              "       user  age  collected_before state\n",
              "0    User 1   43                 0    CA\n",
              "1    User 2   37                 0    CA\n",
              "2    User 3   38                 0    CA\n",
              "3    User 4   38                 1    CA\n",
              "4    User 5   40                 0    NY\n",
              "..      ...  ...               ...   ...\n",
              "49  User 69   49                 0    CA\n",
              "50  User 70   65                 0    NY\n",
              "51  User 72   49                 0    TX\n",
              "52  User 76   53                 0    CA\n",
              "53  User 76   47                 0    CA\n",
              "\n",
              "[54 rows x 4 columns]"
            ]
          },
          "execution_count": 8,
          "metadata": {},
          "output_type": "execute_result"
        }
      ],
      "source": [
        "users_df"
      ]
    },
    {
      "cell_type": "markdown",
      "id": "cea63916",
      "metadata": {
        "id": "cea63916"
      },
      "source": [
        "<h1 id = 'partA'>PART A: Section 1</h1>"
      ]
    },
    {
      "cell_type": "markdown",
      "id": "29af9058",
      "metadata": {
        "id": "29af9058"
      },
      "source": [
        "<h3 id = 'partA1'>1.</h3>\n",
        "<p>\n",
        "    [Write both a Python and SQL script to create] a table where every row lists the number of investors and the total amount invested in each offering, further grouped by the state investors reside in.\n",
        "</p>\n",
        "\n",
        "<h5>Table Requirements:</h5>\n",
        "<ul>\n",
        "    <li>Group the following</li>\n",
        "    <ul>\n",
        "        <li>Number of investors</li>\n",
        "        <li>Total amount invested</li>\n",
        "        <li>State investors are from</li>\n",
        "    </ul>\n",
        " </ul>"
      ]
    },
    {
      "cell_type": "markdown",
      "id": "a255b599",
      "metadata": {
        "id": "a255b599"
      },
      "source": [
        "<h6>Python Script</h6>"
      ]
    },
    {
      "cell_type": "code",
      "execution_count": null,
      "id": "42b40bcd",
      "metadata": {
        "id": "42b40bcd",
        "outputId": "368e4aeb-277d-4e7c-bdac-0212351e3ef2"
      },
      "outputs": [
        {
          "data": {
            "text/html": [
              "<div>\n",
              "<style scoped>\n",
              "    .dataframe tbody tr th:only-of-type {\n",
              "        vertical-align: middle;\n",
              "    }\n",
              "\n",
              "    .dataframe tbody tr th {\n",
              "        vertical-align: top;\n",
              "    }\n",
              "\n",
              "    .dataframe thead tr th {\n",
              "        text-align: left;\n",
              "    }\n",
              "</style>\n",
              "<table border=\"1\" class=\"dataframe\">\n",
              "  <thead>\n",
              "    <tr>\n",
              "      <th></th>\n",
              "      <th>state</th>\n",
              "      <th>artwork</th>\n",
              "      <th>amount_invested</th>\n",
              "      <th>total_investors</th>\n",
              "    </tr>\n",
              "    <tr>\n",
              "      <th></th>\n",
              "      <th></th>\n",
              "      <th></th>\n",
              "      <th></th>\n",
              "      <th></th>\n",
              "    </tr>\n",
              "  </thead>\n",
              "  <tbody>\n",
              "    <tr>\n",
              "      <th>0</th>\n",
              "      <td>AZ</td>\n",
              "      <td>Artwork A</td>\n",
              "      <td>4000</td>\n",
              "      <td>1</td>\n",
              "    </tr>\n",
              "    <tr>\n",
              "      <th>1</th>\n",
              "      <td>CA</td>\n",
              "      <td>Artwork A</td>\n",
              "      <td>55710</td>\n",
              "      <td>18</td>\n",
              "    </tr>\n",
              "    <tr>\n",
              "      <th>2</th>\n",
              "      <td>CA</td>\n",
              "      <td>Artwork B</td>\n",
              "      <td>64060</td>\n",
              "      <td>21</td>\n",
              "    </tr>\n",
              "    <tr>\n",
              "      <th>3</th>\n",
              "      <td>CA</td>\n",
              "      <td>Artwork C</td>\n",
              "      <td>77410</td>\n",
              "      <td>13</td>\n",
              "    </tr>\n",
              "    <tr>\n",
              "      <th>4</th>\n",
              "      <td>FL</td>\n",
              "      <td>Artwork B</td>\n",
              "      <td>3200</td>\n",
              "      <td>1</td>\n",
              "    </tr>\n",
              "    <tr>\n",
              "      <th>5</th>\n",
              "      <td>FL</td>\n",
              "      <td>Artwork C</td>\n",
              "      <td>300</td>\n",
              "      <td>1</td>\n",
              "    </tr>\n",
              "    <tr>\n",
              "      <th>6</th>\n",
              "      <td>NY</td>\n",
              "      <td>Artwork A</td>\n",
              "      <td>47230</td>\n",
              "      <td>15</td>\n",
              "    </tr>\n",
              "    <tr>\n",
              "      <th>7</th>\n",
              "      <td>NY</td>\n",
              "      <td>Artwork B</td>\n",
              "      <td>50860</td>\n",
              "      <td>17</td>\n",
              "    </tr>\n",
              "    <tr>\n",
              "      <th>8</th>\n",
              "      <td>NY</td>\n",
              "      <td>Artwork C</td>\n",
              "      <td>51410</td>\n",
              "      <td>15</td>\n",
              "    </tr>\n",
              "    <tr>\n",
              "      <th>9</th>\n",
              "      <td>TX</td>\n",
              "      <td>Artwork A</td>\n",
              "      <td>1020</td>\n",
              "      <td>2</td>\n",
              "    </tr>\n",
              "    <tr>\n",
              "      <th>10</th>\n",
              "      <td>TX</td>\n",
              "      <td>Artwork C</td>\n",
              "      <td>3750</td>\n",
              "      <td>5</td>\n",
              "    </tr>\n",
              "  </tbody>\n",
              "</table>\n",
              "</div>"
            ],
            "text/plain": [
              "   state    artwork amount_invested total_investors\n",
              "                                                   \n",
              "0     AZ  Artwork A            4000               1\n",
              "1     CA  Artwork A           55710              18\n",
              "2     CA  Artwork B           64060              21\n",
              "3     CA  Artwork C           77410              13\n",
              "4     FL  Artwork B            3200               1\n",
              "5     FL  Artwork C             300               1\n",
              "6     NY  Artwork A           47230              15\n",
              "7     NY  Artwork B           50860              17\n",
              "8     NY  Artwork C           51410              15\n",
              "9     TX  Artwork A            1020               2\n",
              "10    TX  Artwork C            3750               5"
            ]
          },
          "execution_count": 9,
          "metadata": {},
          "output_type": "execute_result"
        }
      ],
      "source": [
        "orders_df\n",
        "users_df\n",
        "df = pd.merge(orders_df, users_df, on=\"user\")\n",
        "df = df[['state', 'artwork', 'amount', 'user']]\n",
        "df = df.groupby([\"state\", \"artwork\"]).agg({\"amount\": [np.sum],'user' : [np.size]})\n",
        "df = df.reset_index()\n",
        "investors_per_work = df.rename(columns={\"amount\": \"amount_invested\", 'sum': '', \"user\": \"total_investors\", 'size':''})\n",
        "investors_per_work"
      ]
    },
    {
      "cell_type": "markdown",
      "id": "5e34f0ee",
      "metadata": {
        "id": "5e34f0ee"
      },
      "source": [
        "<h6>SQL query</h6>"
      ]
    },
    {
      "cell_type": "code",
      "execution_count": null,
      "id": "38a211ec",
      "metadata": {
        "id": "38a211ec",
        "outputId": "f8ca4b0e-140f-4572-f789-2ec072589999"
      },
      "outputs": [
        {
          "name": "stdout",
          "output_type": "stream",
          "text": [
            "table investors_per_work created\n"
          ]
        },
        {
          "data": {
            "text/html": [
              "<div>\n",
              "<style scoped>\n",
              "    .dataframe tbody tr th:only-of-type {\n",
              "        vertical-align: middle;\n",
              "    }\n",
              "\n",
              "    .dataframe tbody tr th {\n",
              "        vertical-align: top;\n",
              "    }\n",
              "\n",
              "    .dataframe thead th {\n",
              "        text-align: right;\n",
              "    }\n",
              "</style>\n",
              "<table border=\"1\" class=\"dataframe\">\n",
              "  <thead>\n",
              "    <tr style=\"text-align: right;\">\n",
              "      <th></th>\n",
              "      <th>state</th>\n",
              "      <th>artwork</th>\n",
              "      <th>amount_invested</th>\n",
              "      <th>total_investors</th>\n",
              "    </tr>\n",
              "  </thead>\n",
              "  <tbody>\n",
              "    <tr>\n",
              "      <th>0</th>\n",
              "      <td>AZ</td>\n",
              "      <td>Artwork A</td>\n",
              "      <td>4000.0</td>\n",
              "      <td>1</td>\n",
              "    </tr>\n",
              "    <tr>\n",
              "      <th>1</th>\n",
              "      <td>CA</td>\n",
              "      <td>Artwork A</td>\n",
              "      <td>55710.0</td>\n",
              "      <td>18</td>\n",
              "    </tr>\n",
              "    <tr>\n",
              "      <th>2</th>\n",
              "      <td>CA</td>\n",
              "      <td>Artwork B</td>\n",
              "      <td>64060.0</td>\n",
              "      <td>21</td>\n",
              "    </tr>\n",
              "    <tr>\n",
              "      <th>3</th>\n",
              "      <td>CA</td>\n",
              "      <td>Artwork C</td>\n",
              "      <td>77410.0</td>\n",
              "      <td>13</td>\n",
              "    </tr>\n",
              "    <tr>\n",
              "      <th>4</th>\n",
              "      <td>FL</td>\n",
              "      <td>Artwork B</td>\n",
              "      <td>3200.0</td>\n",
              "      <td>1</td>\n",
              "    </tr>\n",
              "    <tr>\n",
              "      <th>5</th>\n",
              "      <td>FL</td>\n",
              "      <td>Artwork C</td>\n",
              "      <td>300.0</td>\n",
              "      <td>1</td>\n",
              "    </tr>\n",
              "    <tr>\n",
              "      <th>6</th>\n",
              "      <td>NY</td>\n",
              "      <td>Artwork A</td>\n",
              "      <td>47230.0</td>\n",
              "      <td>15</td>\n",
              "    </tr>\n",
              "    <tr>\n",
              "      <th>7</th>\n",
              "      <td>NY</td>\n",
              "      <td>Artwork B</td>\n",
              "      <td>50860.0</td>\n",
              "      <td>17</td>\n",
              "    </tr>\n",
              "    <tr>\n",
              "      <th>8</th>\n",
              "      <td>NY</td>\n",
              "      <td>Artwork C</td>\n",
              "      <td>51410.0</td>\n",
              "      <td>15</td>\n",
              "    </tr>\n",
              "    <tr>\n",
              "      <th>9</th>\n",
              "      <td>TX</td>\n",
              "      <td>Artwork A</td>\n",
              "      <td>1020.0</td>\n",
              "      <td>2</td>\n",
              "    </tr>\n",
              "    <tr>\n",
              "      <th>10</th>\n",
              "      <td>TX</td>\n",
              "      <td>Artwork C</td>\n",
              "      <td>3750.0</td>\n",
              "      <td>5</td>\n",
              "    </tr>\n",
              "  </tbody>\n",
              "</table>\n",
              "</div>"
            ],
            "text/plain": [
              "   state    artwork  amount_invested  total_investors\n",
              "0     AZ  Artwork A           4000.0                1\n",
              "1     CA  Artwork A          55710.0               18\n",
              "2     CA  Artwork B          64060.0               21\n",
              "3     CA  Artwork C          77410.0               13\n",
              "4     FL  Artwork B           3200.0                1\n",
              "5     FL  Artwork C            300.0                1\n",
              "6     NY  Artwork A          47230.0               15\n",
              "7     NY  Artwork B          50860.0               17\n",
              "8     NY  Artwork C          51410.0               15\n",
              "9     TX  Artwork A           1020.0                2\n",
              "10    TX  Artwork C           3750.0                5"
            ]
          },
          "execution_count": 10,
          "metadata": {},
          "output_type": "execute_result"
        }
      ],
      "source": [
        "query = \"\"\"\n",
        "    SELECT \n",
        "        state,\n",
        "        artwork,\n",
        "        SUM(amount) AS amount_invested,\n",
        "        COUNT(users) AS total_investors\n",
        "    FROM users\n",
        "    INNER JOIN orders ON\n",
        "        users.user = orders.user\n",
        "    GROUP BY artwork, state\n",
        "    ORDER BY state, artwork, amount_invested\n",
        "\"\"\"\n",
        "\n",
        "df = pd.read_sql_query(query, second_connection)\n",
        "try:\n",
        "    df.to_sql('investors_per_work', con=engine, if_exists='replace')\n",
        "    print('table investors_per_work created')\n",
        "except:\n",
        "    print('investors_per_work could not be created')\n",
        "\n",
        "df"
      ]
    },
    {
      "cell_type": "markdown",
      "id": "7162b80d",
      "metadata": {
        "id": "7162b80d"
      },
      "source": [
        "<h1 id = 'partA2'>Part A: Section 2</h1>\n",
        "<p>\n",
        "[Write both a Python and SQL script to create] two tables, based on the one above, shaped in a way that a value can be found by selecting a row and a column\n",
        "</p>\n",
        "\n",
        "<h5>Tables</h5>\n",
        "    <ol>\n",
        "        <li>\n",
        "           Can be used to find the active investors, total investment, and average investment for each state\n",
        "        </li>\n",
        "        <li>\n",
        "            Used to find the highest and lowest investements for each art piece\n",
        "        </li>\n",
        "    </ol>"
      ]
    },
    {
      "cell_type": "markdown",
      "id": "ef711180",
      "metadata": {
        "id": "ef711180"
      },
      "source": [
        "<h6>Table1: Python script</h6>"
      ]
    },
    {
      "cell_type": "code",
      "execution_count": null,
      "id": "d2412581",
      "metadata": {
        "id": "d2412581"
      },
      "outputs": [],
      "source": [
        "#Table 1: Investors per state and total invested\n",
        "#investors_per_work['new'] = investors_per_work['amount_invested']\n",
        "df = investors_per_work[['state', 'amount_invested','total_investors']]\n",
        "df = df.groupby([\"state\"]).agg({'total_investors' : [np.sum], \"amount_invested\": [np.sum]})\n",
        "df = df.reset_index()\n",
        "df = df.rename(columns={'sum': '','total_investors': 'investors', 'new': 'avg_investment', 'average': ''})\n",
        "df['avg_investment'] = df['amount_invested']//df['investors']\n",
        "df.to_csv('Part_A_Python_Table_1.csv')"
      ]
    },
    {
      "cell_type": "markdown",
      "id": "00081980",
      "metadata": {
        "id": "00081980"
      },
      "source": [
        "<h6>Table 1: SQL query</h6>"
      ]
    },
    {
      "cell_type": "code",
      "execution_count": null,
      "id": "1fd146ff",
      "metadata": {
        "id": "1fd146ff",
        "outputId": "b5d08055-1368-4a1b-9f26-d013ac52a55a"
      },
      "outputs": [
        {
          "data": {
            "text/html": [
              "<div>\n",
              "<style scoped>\n",
              "    .dataframe tbody tr th:only-of-type {\n",
              "        vertical-align: middle;\n",
              "    }\n",
              "\n",
              "    .dataframe tbody tr th {\n",
              "        vertical-align: top;\n",
              "    }\n",
              "\n",
              "    .dataframe thead th {\n",
              "        text-align: right;\n",
              "    }\n",
              "</style>\n",
              "<table border=\"1\" class=\"dataframe\">\n",
              "  <thead>\n",
              "    <tr style=\"text-align: right;\">\n",
              "      <th></th>\n",
              "      <th>state</th>\n",
              "      <th>investors</th>\n",
              "      <th>avg_investment</th>\n",
              "      <th>total_invested</th>\n",
              "    </tr>\n",
              "  </thead>\n",
              "  <tbody>\n",
              "    <tr>\n",
              "      <th>0</th>\n",
              "      <td>AZ</td>\n",
              "      <td>1.0</td>\n",
              "      <td>4000</td>\n",
              "      <td>4000</td>\n",
              "    </tr>\n",
              "    <tr>\n",
              "      <th>1</th>\n",
              "      <td>CA</td>\n",
              "      <td>52.0</td>\n",
              "      <td>3792</td>\n",
              "      <td>197180</td>\n",
              "    </tr>\n",
              "    <tr>\n",
              "      <th>2</th>\n",
              "      <td>FL</td>\n",
              "      <td>2.0</td>\n",
              "      <td>1750</td>\n",
              "      <td>3500</td>\n",
              "    </tr>\n",
              "    <tr>\n",
              "      <th>3</th>\n",
              "      <td>NY</td>\n",
              "      <td>47.0</td>\n",
              "      <td>3181</td>\n",
              "      <td>149500</td>\n",
              "    </tr>\n",
              "    <tr>\n",
              "      <th>4</th>\n",
              "      <td>TX</td>\n",
              "      <td>7.0</td>\n",
              "      <td>681</td>\n",
              "      <td>4770</td>\n",
              "    </tr>\n",
              "  </tbody>\n",
              "</table>\n",
              "</div>"
            ],
            "text/plain": [
              "  state  investors  avg_investment  total_invested\n",
              "0    AZ        1.0            4000            4000\n",
              "1    CA       52.0            3792          197180\n",
              "2    FL        2.0            1750            3500\n",
              "3    NY       47.0            3181          149500\n",
              "4    TX        7.0             681            4770"
            ]
          },
          "execution_count": 12,
          "metadata": {},
          "output_type": "execute_result"
        }
      ],
      "source": [
        "#TABLE 1: Investors per state and total invested\n",
        "\n",
        "query = \"\"\"\n",
        "    WITH temp AS (\n",
        "        SELECT \n",
        "            state,\n",
        "            SUM(total_investors) AS investors,\n",
        "            SUM(amount_invested) AS total_invested\n",
        "        FROM investors_per_work\n",
        "        GROUP BY state\n",
        "    )\n",
        "    SELECT \n",
        "        state,\n",
        "        investors,\n",
        "        CAST(total_invested/investors AS INTEGER) AS avg_investment,\n",
        "        CAST(total_invested AS INTEGER)\n",
        "    FROM temp\n",
        "    ORDER BY state\n",
        "\"\"\"\n",
        "df = pd.read_sql_query(query, second_connection)\n",
        "df.to_csv('Part_A_SQL_Table_1.csv')\n",
        "df"
      ]
    },
    {
      "cell_type": "markdown",
      "id": "42ea1afe",
      "metadata": {
        "id": "42ea1afe"
      },
      "source": [
        "<h3>PART A2: Table 1 Extra Credit</h3>\n",
        "<p>My reasoning behind choosing the above variables is because they answer basic business questions that are essential for growth. The amount of investors per state allows one to consider whether they should prioritize receptive markets or allocate resources towards tapping into large, yet difficult markets. It raises important questions, such as \"why are some market more receptive?\" and \"how much potential do these markets have?\"</p>\n",
        "\n",
        "<p>\n",
        "    \"avg_investment\" and \"total_invested\" can help answer and direct the questions that naturally arise when contemplating expansion. These variables also lend themselves nicely towards visualization, which is the corner stone of data driven story telling. Creating a narrative that outlines the path towards success is essential, so whenever I see data that clearly denotes a story direction, especially when that story is easy to visualize, it should be told\n",
        "</p>"
      ]
    },
    {
      "cell_type": "markdown",
      "id": "0d4e5e09",
      "metadata": {
        "id": "0d4e5e09"
      },
      "source": [
        "<h6>Table 1: Visuals</h6>"
      ]
    },
    {
      "cell_type": "code",
      "execution_count": null,
      "id": "36269d1a",
      "metadata": {
        "id": "36269d1a",
        "outputId": "b7845bbb-c5d5-4c5f-fc7f-4f9a5ca00a05"
      },
      "outputs": [
        {
          "data": {
            "text/plain": [
              "Text(0.5, 1.0, 'Total Investors by State')"
            ]
          },
          "execution_count": 13,
          "metadata": {},
          "output_type": "execute_result"
        },
        {
          "data": {
            "image/png": "[encoded data removed]",
            "text/plain": [
              "<Figure size 1728x432 with 3 Axes>"
            ]
          },
          "metadata": {},
          "output_type": "display_data"
        }
      ],
      "source": [
        "#Seaborn Visual\n",
        "sns.set(rc = {'figure.figsize':(24,6)})\n",
        "fig, (ax1, ax2, ax3) = plt.subplots(ncols=3, sharey=False)\n",
        "\n",
        "\n",
        "first = plot = sns.barplot(data=df, x=\"state\", y=\"avg_investment\", ax=ax1)\n",
        "plot.set_xlabel(\"State\", fontsize = 16)\n",
        "plot.set_ylabel(\"Avg Investment\", fontsize = 16)\n",
        "plot.set_title('Avg Investment by State', fontsize = 20)\n",
        "\n",
        "second = plot = sns.barplot(data=df, x=\"state\", y=\"total_invested\", ax=ax2)\n",
        "plot.set_xlabel(\"State\", fontsize = 16)\n",
        "plot.set_ylabel(\"Avg Investment\", fontsize = 16)\n",
        "plot.set_title('Total Investment by State', fontsize = 20)\n",
        "\n",
        "third = plot = sns.barplot(data=df, x=\"state\", y=\"investors\", ax=ax3)\n",
        "plot.set_xlabel(\"State\", fontsize = 16)\n",
        "plot.set_ylabel(\"Investors\", fontsize = 16)\n",
        "plot.set_title('Total Investors by State', fontsize = 20)\n"
      ]
    },
    {
      "cell_type": "code",
      "execution_count": null,
      "id": "66b623d9",
      "metadata": {
        "id": "66b623d9",
        "outputId": "65048660-33b1-4d93-c52a-a6938594ca86"
      },
      "outputs": [
        {
          "data": {
            "image/png": "[encoded data removed]",
            "text/plain": [
              "<Figure size 1728x432 with 1 Axes>"
            ]
          },
          "metadata": {},
          "output_type": "display_data"
        }
      ],
      "source": [
        "plt.pie(data= df, labels='state',x= 'investors',explode=[0.05]*5, autopct='%.0f%%')\n",
        "plt.title(\"Investors per State\", fontsize=14);\n",
        "plt.show()"
      ]
    },
    {
      "cell_type": "markdown",
      "id": "4e0c01ab",
      "metadata": {
        "id": "4e0c01ab"
      },
      "source": [
        "<h6>Table 2: Python script</h6>"
      ]
    },
    {
      "cell_type": "code",
      "execution_count": null,
      "id": "4405e615",
      "metadata": {
        "id": "4405e615"
      },
      "outputs": [],
      "source": [
        "#TABLE 2: maximum and minimum invested by investors for each piece\n",
        "max_df = investors_per_work[['amount_invested','state','artwork']]\n",
        "max_df = max_df.groupby(['artwork', 'amount_invested']).max()\n",
        "max_df = max_df.reset_index().groupby('artwork').last()\n",
        "max_df.reset_index()\n",
        "\n",
        "min_df = investors_per_work[['amount_invested','state','artwork']]\n",
        "min_df = min_df.groupby(['artwork', 'amount_invested']).min()\n",
        "min_df = min_df.reset_index().groupby('artwork').first()\n",
        "min_df.reset_index()\n",
        "\n",
        "df = pd.merge(max_df, min_df, on=\"artwork\")\n",
        "df = df.rename(columns={\"amount_invested_x\": \"max_invested\", 'amount_invested_y': 'min_invested', \"state_x\": \"max_state\", 'state_y':'min_state'})\n",
        "df['difference'] = df['max_invested'] - df['min_invested']\n",
        "df['multiples_larger'] = df['max_invested']/df['min_invested']\n",
        "df.reset_index()\n",
        "df.to_csv('Part_A_Python_Table_2.csv')"
      ]
    },
    {
      "cell_type": "markdown",
      "id": "f2c4a4c3",
      "metadata": {
        "id": "f2c4a4c3"
      },
      "source": [
        "<h6>Table 2: SQL query</h6>"
      ]
    },
    {
      "cell_type": "code",
      "execution_count": null,
      "id": "fe1576a6",
      "metadata": {
        "id": "fe1576a6",
        "outputId": "2eed95cc-4b72-40bf-e9cb-0423c31bfdde"
      },
      "outputs": [
        {
          "data": {
            "text/html": [
              "<div>\n",
              "<style scoped>\n",
              "    .dataframe tbody tr th:only-of-type {\n",
              "        vertical-align: middle;\n",
              "    }\n",
              "\n",
              "    .dataframe tbody tr th {\n",
              "        vertical-align: top;\n",
              "    }\n",
              "\n",
              "    .dataframe thead th {\n",
              "        text-align: right;\n",
              "    }\n",
              "</style>\n",
              "<table border=\"1\" class=\"dataframe\">\n",
              "  <thead>\n",
              "    <tr style=\"text-align: right;\">\n",
              "      <th></th>\n",
              "      <th>artwork</th>\n",
              "      <th>max_state</th>\n",
              "      <th>max_invested</th>\n",
              "      <th>min_state</th>\n",
              "      <th>min_invested</th>\n",
              "      <th>difference</th>\n",
              "      <th>multiples_larger</th>\n",
              "    </tr>\n",
              "  </thead>\n",
              "  <tbody>\n",
              "    <tr>\n",
              "      <th>0</th>\n",
              "      <td>Artwork A</td>\n",
              "      <td>CA</td>\n",
              "      <td>55710.0</td>\n",
              "      <td>TX</td>\n",
              "      <td>1020.0</td>\n",
              "      <td>54690.0</td>\n",
              "      <td>54.62</td>\n",
              "    </tr>\n",
              "    <tr>\n",
              "      <th>1</th>\n",
              "      <td>Artwork B</td>\n",
              "      <td>CA</td>\n",
              "      <td>64060.0</td>\n",
              "      <td>FL</td>\n",
              "      <td>3200.0</td>\n",
              "      <td>60860.0</td>\n",
              "      <td>20.02</td>\n",
              "    </tr>\n",
              "    <tr>\n",
              "      <th>2</th>\n",
              "      <td>Artwork C</td>\n",
              "      <td>CA</td>\n",
              "      <td>77410.0</td>\n",
              "      <td>FL</td>\n",
              "      <td>300.0</td>\n",
              "      <td>77110.0</td>\n",
              "      <td>258.03</td>\n",
              "    </tr>\n",
              "  </tbody>\n",
              "</table>\n",
              "</div>"
            ],
            "text/plain": [
              "     artwork max_state  max_invested min_state  min_invested  difference  \\\n",
              "0  Artwork A        CA       55710.0        TX        1020.0     54690.0   \n",
              "1  Artwork B        CA       64060.0        FL        3200.0     60860.0   \n",
              "2  Artwork C        CA       77410.0        FL         300.0     77110.0   \n",
              "\n",
              "   multiples_larger  \n",
              "0             54.62  \n",
              "1             20.02  \n",
              "2            258.03  "
            ]
          },
          "execution_count": 16,
          "metadata": {},
          "output_type": "execute_result"
        }
      ],
      "source": [
        "#TABLE 2: maximum and minimum invested by investors for each piece\n",
        "\n",
        "query = \"\"\"\n",
        "    WITH max_min_values AS(\n",
        "    \n",
        "        --Finding min and max value\n",
        "        \n",
        "        SELECT\n",
        "            state,\n",
        "            artwork,\n",
        "            MAX(amount_invested),\n",
        "            MIN(amount_invested)\n",
        "        FROM investors_per_work\n",
        "        GROUP BY artwork, state\n",
        "    ),\n",
        "    max_rank AS (\n",
        "        -- ranking and ordering the states by \n",
        "    \n",
        "        SELECT \n",
        "            state,\n",
        "            artwork,\n",
        "            max,\n",
        "            RANK() OVER (PARTITION BY artwork ORDER BY max DESC) AS max_rank\n",
        "        FROM max_min_values\n",
        "    ),\n",
        "    min_rank AS (\n",
        "        SELECT\n",
        "            state,\n",
        "            artwork,\n",
        "            min,\n",
        "            RANK() OVER (PARTITION BY artwork ORDER BY min ASC) AS min_rank\n",
        "        FROM max_min_values\n",
        "    )\n",
        "    SELECT\n",
        "        max_rank.artwork,\n",
        "        max_rank.state AS max_state,\n",
        "        max AS max_invested,\n",
        "        min_rank.state AS min_state,\n",
        "        min AS min_invested,\n",
        "        max - min AS difference,\n",
        "        ROUND(CAST(max/min AS NUMERIC), 2) AS multiples_larger\n",
        "    FROM max_rank\n",
        "    INNER JOIN min_rank ON\n",
        "        max_rank.artwork = min_rank.artwork\n",
        "    WHERE \n",
        "        max_rank = 1\n",
        "            AND\n",
        "        min_rank = 1\n",
        "\"\"\"\n",
        "df = pd.read_sql_query(query, second_connection)\n",
        "df.to_csv('Part_A_SQL_Table_2.csv')\n",
        "df"
      ]
    },
    {
      "cell_type": "markdown",
      "id": "f7fe2d31",
      "metadata": {
        "id": "f7fe2d31"
      },
      "source": [
        "<h3>PART A2: Table 2 Extra Credit</h3>\n",
        "<p>\n",
        "    Extremes and outliers are often overlooked, but, by definition, they do define what's the best and worst scenario. What stands out to me is that California attracts generous investments. Who are these investors and is there a way to direct our marketing efforts to capture people who share in their investing philosophy? Who are the investors who still invest, yet comparitively modestly? How many are there? What age are they? Do they over time become more willing to engage?\n",
        "</p>\n",
        "<p>\n",
        "    A question is only as important as the gravity of its answer and the questions the data inspires has gravity. Though limited, this max/min table can offer insights into capturing more lucrative customers, while fostering the participation of young or reluctant investors.\n",
        " </p"
      ]
    },
    {
      "cell_type": "markdown",
      "id": "8555ee62",
      "metadata": {
        "id": "8555ee62"
      },
      "source": [
        "<h1>PART B: Section 1</h1>"
      ]
    },
    {
      "cell_type": "markdown",
      "id": "a57ddec1",
      "metadata": {
        "id": "a57ddec1"
      },
      "source": [
        "<h3>1.</h3>\n",
        "<p>\n",
        "[Write an SQL script to create] a table whose entries reflect the total amount paid, relative to when its underlying orders were created, grouped by calendar month.\n",
        "</p>\n",
        "\n",
        "<h5>Table Requirements:</h5>\n",
        "<ul>\n",
        "    <li>Group the following</li>\n",
        "    <ul>\n",
        "        <li>Calendar month</li>\n",
        "        <li>Amount invested</li>\n",
        "    </ul>\n",
        " </ul>"
      ]
    },
    {
      "cell_type": "code",
      "execution_count": null,
      "id": "94c42d2d",
      "metadata": {
        "id": "94c42d2d",
        "outputId": "2a7ba0b5-89c7-45a5-9562-cc98e9d8c6f6"
      },
      "outputs": [
        {
          "data": {
            "text/html": [
              "<div>\n",
              "<style scoped>\n",
              "    .dataframe tbody tr th:only-of-type {\n",
              "        vertical-align: middle;\n",
              "    }\n",
              "\n",
              "    .dataframe tbody tr th {\n",
              "        vertical-align: top;\n",
              "    }\n",
              "\n",
              "    .dataframe thead th {\n",
              "        text-align: right;\n",
              "    }\n",
              "</style>\n",
              "<table border=\"1\" class=\"dataframe\">\n",
              "  <thead>\n",
              "    <tr style=\"text-align: right;\">\n",
              "      <th></th>\n",
              "      <th>date</th>\n",
              "      <th>sum</th>\n",
              "    </tr>\n",
              "  </thead>\n",
              "  <tbody>\n",
              "    <tr>\n",
              "      <th>0</th>\n",
              "      <td>2021-05-01</td>\n",
              "      <td>$208,250.00</td>\n",
              "    </tr>\n",
              "    <tr>\n",
              "      <th>1</th>\n",
              "      <td>2021-06-01</td>\n",
              "      <td>$138,300.00</td>\n",
              "    </tr>\n",
              "    <tr>\n",
              "      <th>2</th>\n",
              "      <td>2021-07-01</td>\n",
              "      <td>$14,400.00</td>\n",
              "    </tr>\n",
              "  </tbody>\n",
              "</table>\n",
              "</div>"
            ],
            "text/plain": [
              "        date          sum\n",
              "0 2021-05-01  $208,250.00\n",
              "1 2021-06-01  $138,300.00\n",
              "2 2021-07-01   $14,400.00"
            ]
          },
          "execution_count": 17,
          "metadata": {},
          "output_type": "execute_result"
        }
      ],
      "source": [
        "query = \"\"\"\n",
        "    SELECT\n",
        "        DATE_TRUNC('month', CAST(order_created_date AS TIMESTAMP)) AS date,\n",
        "        SUM(CAST(amount AS MONEY))\n",
        "    FROM orders\n",
        "    GROUP BY date\n",
        "    ORDER BY date\n",
        "\"\"\"\n",
        "df = pd.read_sql_query(query, second_connection)\n",
        "df.to_csv('Part_B_SQL_Table_1_First_Interpretation.csv')\n",
        "df"
      ]
    },
    {
      "cell_type": "code",
      "execution_count": null,
      "id": "a4128b29",
      "metadata": {
        "id": "a4128b29",
        "outputId": "91177ff4-c89b-47a7-d1f0-656d15bc71a0"
      },
      "outputs": [
        {
          "data": {
            "text/html": [
              "<div>\n",
              "<style scoped>\n",
              "    .dataframe tbody tr th:only-of-type {\n",
              "        vertical-align: middle;\n",
              "    }\n",
              "\n",
              "    .dataframe tbody tr th {\n",
              "        vertical-align: top;\n",
              "    }\n",
              "\n",
              "    .dataframe thead th {\n",
              "        text-align: right;\n",
              "    }\n",
              "</style>\n",
              "<table border=\"1\" class=\"dataframe\">\n",
              "  <thead>\n",
              "    <tr style=\"text-align: right;\">\n",
              "      <th></th>\n",
              "      <th>month</th>\n",
              "      <th>date</th>\n",
              "      <th>daily_sum</th>\n",
              "      <th>running_total</th>\n",
              "    </tr>\n",
              "  </thead>\n",
              "  <tbody>\n",
              "    <tr>\n",
              "      <th>0</th>\n",
              "      <td>May</td>\n",
              "      <td>2021-05-01</td>\n",
              "      <td>$6,200.00</td>\n",
              "      <td>$6,200.00</td>\n",
              "    </tr>\n",
              "    <tr>\n",
              "      <th>1</th>\n",
              "      <td>May</td>\n",
              "      <td>2021-05-02</td>\n",
              "      <td>$810.00</td>\n",
              "      <td>$7,010.00</td>\n",
              "    </tr>\n",
              "    <tr>\n",
              "      <th>2</th>\n",
              "      <td>May</td>\n",
              "      <td>2021-05-03</td>\n",
              "      <td>$700.00</td>\n",
              "      <td>$7,710.00</td>\n",
              "    </tr>\n",
              "    <tr>\n",
              "      <th>3</th>\n",
              "      <td>May</td>\n",
              "      <td>2021-05-04</td>\n",
              "      <td>$5,600.00</td>\n",
              "      <td>$13,310.00</td>\n",
              "    </tr>\n",
              "    <tr>\n",
              "      <th>4</th>\n",
              "      <td>May</td>\n",
              "      <td>2021-05-05</td>\n",
              "      <td>$1,350.00</td>\n",
              "      <td>$14,660.00</td>\n",
              "    </tr>\n",
              "    <tr>\n",
              "      <th>...</th>\n",
              "      <td>...</td>\n",
              "      <td>...</td>\n",
              "      <td>...</td>\n",
              "      <td>...</td>\n",
              "    </tr>\n",
              "    <tr>\n",
              "      <th>42</th>\n",
              "      <td>June</td>\n",
              "      <td>2021-06-20</td>\n",
              "      <td>$200.00</td>\n",
              "      <td>$138,100.00</td>\n",
              "    </tr>\n",
              "    <tr>\n",
              "      <th>43</th>\n",
              "      <td>June</td>\n",
              "      <td>2021-06-27</td>\n",
              "      <td>$200.00</td>\n",
              "      <td>$138,300.00</td>\n",
              "    </tr>\n",
              "    <tr>\n",
              "      <th>44</th>\n",
              "      <td>July</td>\n",
              "      <td>2021-07-01</td>\n",
              "      <td>$1,000.00</td>\n",
              "      <td>$1,000.00</td>\n",
              "    </tr>\n",
              "    <tr>\n",
              "      <th>45</th>\n",
              "      <td>July</td>\n",
              "      <td>2021-07-07</td>\n",
              "      <td>$5,700.00</td>\n",
              "      <td>$6,700.00</td>\n",
              "    </tr>\n",
              "    <tr>\n",
              "      <th>46</th>\n",
              "      <td>July</td>\n",
              "      <td>2021-07-13</td>\n",
              "      <td>$7,700.00</td>\n",
              "      <td>$14,400.00</td>\n",
              "    </tr>\n",
              "  </tbody>\n",
              "</table>\n",
              "<p>47 rows × 4 columns</p>\n",
              "</div>"
            ],
            "text/plain": [
              "        month        date  daily_sum running_total\n",
              "0   May        2021-05-01  $6,200.00     $6,200.00\n",
              "1   May        2021-05-02    $810.00     $7,010.00\n",
              "2   May        2021-05-03    $700.00     $7,710.00\n",
              "3   May        2021-05-04  $5,600.00    $13,310.00\n",
              "4   May        2021-05-05  $1,350.00    $14,660.00\n",
              "..        ...         ...        ...           ...\n",
              "42  June       2021-06-20    $200.00   $138,100.00\n",
              "43  June       2021-06-27    $200.00   $138,300.00\n",
              "44  July       2021-07-01  $1,000.00     $1,000.00\n",
              "45  July       2021-07-07  $5,700.00     $6,700.00\n",
              "46  July       2021-07-13  $7,700.00    $14,400.00\n",
              "\n",
              "[47 rows x 4 columns]"
            ]
          },
          "execution_count": 18,
          "metadata": {},
          "output_type": "execute_result"
        }
      ],
      "source": [
        "query = \"\"\"\n",
        "    WITH daily_sum AS (\n",
        "        SELECT\n",
        "            TO_CHAR(CAST(order_created_date AS TIMESTAMP), 'Month') AS month,\n",
        "            CAST(order_created_date AS DATE) AS date,\n",
        "            SUM(CAST(amount AS MONEY)) AS daily_sum\n",
        "        FROM orders\n",
        "        GROUP BY TO_CHAR(CAST(order_created_date AS TIMESTAMP), 'Month'), date\n",
        "    )\n",
        "    SELECT\n",
        "        month,\n",
        "        date,\n",
        "        daily_sum,\n",
        "        SUM(daily_sum) OVER (PARTITION BY month ORDER BY date) AS running_total\n",
        "    FROM daily_sum\n",
        "    ORDER BY date\n",
        "\"\"\"\n",
        "df = pd.read_sql_query(query, second_connection)\n",
        "df.to_csv('Part_B_SQL_Table_1_Second_Interpretation.csv')\n",
        "df\n"
      ]
    },
    {
      "cell_type": "markdown",
      "id": "447db713",
      "metadata": {
        "id": "447db713"
      },
      "source": [
        "<h1>Part B: Section 2</h1>\n",
        "<p>\n",
        "[Write a Python script to answer the following question:] what causes some payments to get paid later than others? Can we model the difference between when an order was created and when it was paid? \n",
        "</p>\n",
        "\n",
        "<h5>Plan of action:</h5>\n",
        "<ul>\n",
        "    <li>Explore data and Create visuals</li>\n",
        "    <li>Come up with a hypothesis</li>\n",
        "    <li>Test hypothesis</li>\n",
        " </ul>"
      ]
    },
    {
      "cell_type": "markdown",
      "id": "324db083",
      "metadata": {
        "id": "324db083"
      },
      "source": [
        "<h3>Exploring Data</h3>"
      ]
    },
    {
      "cell_type": "code",
      "execution_count": null,
      "id": "1a919375",
      "metadata": {
        "id": "1a919375",
        "outputId": "86abb99e-97ee-444a-81da-eb9db26ab152"
      },
      "outputs": [
        {
          "name": "stdout",
          "output_type": "stream",
          "text": [
            "PostgreSQL connected successfully\n"
          ]
        }
      ],
      "source": [
        "#Connecting to self-hosted PostgreSQL database with psycopg2\n",
        "#Used to create views, which sqlAlchemy cannot do with ease\n",
        "connection = psycopg2.connect(\n",
        "    user=user, \n",
        "    database=database,\n",
        "    password=password, \n",
        "    host=host, \n",
        "    port=port\n",
        ")\n",
        "connection.set_isolation_level(ISOLATION_LEVEL_AUTOCOMMIT)\n",
        "psycopg_cursor = connection.cursor()\n",
        "print(\"PostgreSQL connected successfully\")"
      ]
    },
    {
      "cell_type": "code",
      "execution_count": null,
      "id": "d42e8421",
      "metadata": {
        "id": "d42e8421",
        "outputId": "175e74d0-a53e-4f32-abe8-6dc522bf4e77"
      },
      "outputs": [
        {
          "name": "stdout",
          "output_type": "stream",
          "text": [
            "view already exist\n"
          ]
        }
      ],
      "source": [
        "#Finding the time between order initialization and payment based on payment method\n",
        "\n",
        "query = \"\"\"\n",
        "    CREATE VIEW payment_between AS\n",
        "        SELECT\n",
        "            order_created_date,\n",
        "            paid_at_date,\n",
        "            CAST(paid_at_date AS DATE) - CAST(order_created_date AS DATE) AS time_between_payment,\n",
        "            \"payment method\"\n",
        "        FROM orders\n",
        "        ORDER BY \"payment method\";\n",
        "\n",
        "\"\"\"\n",
        "try:\n",
        "    psycopg_cursor.execute(query)\n",
        "    print('view created')\n",
        "except:\n",
        "    print('view already exist')\n",
        "#psycopg_cursor.close()"
      ]
    },
    {
      "cell_type": "code",
      "execution_count": null,
      "id": "c2915134",
      "metadata": {
        "id": "c2915134",
        "outputId": "f3ff5100-8666-486e-bf12-6e56f8164fe2"
      },
      "outputs": [
        {
          "data": {
            "text/html": [
              "<div>\n",
              "<style scoped>\n",
              "    .dataframe tbody tr th:only-of-type {\n",
              "        vertical-align: middle;\n",
              "    }\n",
              "\n",
              "    .dataframe tbody tr th {\n",
              "        vertical-align: top;\n",
              "    }\n",
              "\n",
              "    .dataframe thead th {\n",
              "        text-align: right;\n",
              "    }\n",
              "</style>\n",
              "<table border=\"1\" class=\"dataframe\">\n",
              "  <thead>\n",
              "    <tr style=\"text-align: right;\">\n",
              "      <th></th>\n",
              "      <th>user</th>\n",
              "      <th>artwork</th>\n",
              "      <th>time_between_payment</th>\n",
              "      <th>payment method</th>\n",
              "      <th>amount</th>\n",
              "      <th>collected_before</th>\n",
              "      <th>state</th>\n",
              "    </tr>\n",
              "  </thead>\n",
              "  <tbody>\n",
              "    <tr>\n",
              "      <th>0</th>\n",
              "      <td>User 68</td>\n",
              "      <td>Artwork A</td>\n",
              "      <td>8</td>\n",
              "      <td>ACH</td>\n",
              "      <td>4000.0</td>\n",
              "      <td>0</td>\n",
              "      <td>AZ</td>\n",
              "    </tr>\n",
              "    <tr>\n",
              "      <th>1</th>\n",
              "      <td>User 44</td>\n",
              "      <td>Artwork B</td>\n",
              "      <td>0</td>\n",
              "      <td>ACH</td>\n",
              "      <td>6300.0</td>\n",
              "      <td>0</td>\n",
              "      <td>CA</td>\n",
              "    </tr>\n",
              "    <tr>\n",
              "      <th>2</th>\n",
              "      <td>User 61</td>\n",
              "      <td>Artwork B</td>\n",
              "      <td>1</td>\n",
              "      <td>ACH</td>\n",
              "      <td>600.0</td>\n",
              "      <td>0</td>\n",
              "      <td>CA</td>\n",
              "    </tr>\n",
              "    <tr>\n",
              "      <th>3</th>\n",
              "      <td>User 48</td>\n",
              "      <td>Artwork B</td>\n",
              "      <td>1</td>\n",
              "      <td>ACH</td>\n",
              "      <td>7300.0</td>\n",
              "      <td>0</td>\n",
              "      <td>CA</td>\n",
              "    </tr>\n",
              "    <tr>\n",
              "      <th>4</th>\n",
              "      <td>User 22</td>\n",
              "      <td>Artwork B</td>\n",
              "      <td>1</td>\n",
              "      <td>ACH</td>\n",
              "      <td>1400.0</td>\n",
              "      <td>0</td>\n",
              "      <td>CA</td>\n",
              "    </tr>\n",
              "    <tr>\n",
              "      <th>...</th>\n",
              "      <td>...</td>\n",
              "      <td>...</td>\n",
              "      <td>...</td>\n",
              "      <td>...</td>\n",
              "      <td>...</td>\n",
              "      <td>...</td>\n",
              "      <td>...</td>\n",
              "    </tr>\n",
              "    <tr>\n",
              "      <th>104</th>\n",
              "      <td>User 39</td>\n",
              "      <td>Artwork C</td>\n",
              "      <td>7</td>\n",
              "      <td>credit_card</td>\n",
              "      <td>340.0</td>\n",
              "      <td>0</td>\n",
              "      <td>TX</td>\n",
              "    </tr>\n",
              "    <tr>\n",
              "      <th>105</th>\n",
              "      <td>User 13</td>\n",
              "      <td>Artwork A</td>\n",
              "      <td>3</td>\n",
              "      <td>debit_card</td>\n",
              "      <td>920.0</td>\n",
              "      <td>1</td>\n",
              "      <td>TX</td>\n",
              "    </tr>\n",
              "    <tr>\n",
              "      <th>106</th>\n",
              "      <td>User 39</td>\n",
              "      <td>Artwork A</td>\n",
              "      <td>7</td>\n",
              "      <td>wire</td>\n",
              "      <td>100.0</td>\n",
              "      <td>0</td>\n",
              "      <td>TX</td>\n",
              "    </tr>\n",
              "    <tr>\n",
              "      <th>107</th>\n",
              "      <td>User 39</td>\n",
              "      <td>Artwork C</td>\n",
              "      <td>8</td>\n",
              "      <td>wire</td>\n",
              "      <td>1000.0</td>\n",
              "      <td>0</td>\n",
              "      <td>TX</td>\n",
              "    </tr>\n",
              "    <tr>\n",
              "      <th>108</th>\n",
              "      <td>User 39</td>\n",
              "      <td>Artwork C</td>\n",
              "      <td>10</td>\n",
              "      <td>wire</td>\n",
              "      <td>1000.0</td>\n",
              "      <td>0</td>\n",
              "      <td>TX</td>\n",
              "    </tr>\n",
              "  </tbody>\n",
              "</table>\n",
              "<p>109 rows × 7 columns</p>\n",
              "</div>"
            ],
            "text/plain": [
              "        user    artwork  time_between_payment payment method  amount  \\\n",
              "0    User 68  Artwork A                     8            ACH  4000.0   \n",
              "1    User 44  Artwork B                     0            ACH  6300.0   \n",
              "2    User 61  Artwork B                     1            ACH   600.0   \n",
              "3    User 48  Artwork B                     1            ACH  7300.0   \n",
              "4    User 22  Artwork B                     1            ACH  1400.0   \n",
              "..       ...        ...                   ...            ...     ...   \n",
              "104  User 39  Artwork C                     7    credit_card   340.0   \n",
              "105  User 13  Artwork A                     3     debit_card   920.0   \n",
              "106  User 39  Artwork A                     7           wire   100.0   \n",
              "107  User 39  Artwork C                     8           wire  1000.0   \n",
              "108  User 39  Artwork C                    10           wire  1000.0   \n",
              "\n",
              "     collected_before state  \n",
              "0                   0    AZ  \n",
              "1                   0    CA  \n",
              "2                   0    CA  \n",
              "3                   0    CA  \n",
              "4                   0    CA  \n",
              "..                ...   ...  \n",
              "104                 0    TX  \n",
              "105                 1    TX  \n",
              "106                 0    TX  \n",
              "107                 0    TX  \n",
              "108                 0    TX  \n",
              "\n",
              "[109 rows x 7 columns]"
            ]
          },
          "execution_count": 21,
          "metadata": {},
          "output_type": "execute_result"
        }
      ],
      "source": [
        "#A general table to see how variables affect time_between payments\n",
        "query = \"\"\"\n",
        "    SELECT \n",
        "        orders.user,\n",
        "        artwork,\n",
        "        CAST(paid_at_date AS DATE) - CAST(order_created_date AS DATE) AS time_between_payment,\n",
        "        \"payment method\",\n",
        "        CAST(amount AS NUMERIC),\n",
        "        collected_before,\n",
        "        state\n",
        "        \n",
        "    FROM users\n",
        "    INNER JOIN orders ON\n",
        "        users.user = orders.user\n",
        "    ORDER BY\n",
        "        state, \"payment method\", time_between_payment\n",
        "\"\"\"\n",
        "\n",
        "df = pd.read_sql_query(query, second_connection)\n",
        "df"
      ]
    },
    {
      "cell_type": "markdown",
      "source": [
        "<h5>Visualizing any patterns between amount and payment time</h5>"
      ],
      "metadata": {
        "id": "Bn-rhHH4Kai_"
      },
      "id": "Bn-rhHH4Kai_"
    },
    {
      "cell_type": "code",
      "execution_count": null,
      "id": "7fe93aa4",
      "metadata": {
        "id": "7fe93aa4",
        "outputId": "b06a63ab-9d22-4e4e-ae7b-816acdd97127"
      },
      "outputs": [
        {
          "data": {
            "text/plain": [
              "<AxesSubplot:xlabel='amount', ylabel='time_between_payment'>"
            ]
          },
          "execution_count": 22,
          "metadata": {},
          "output_type": "execute_result"
        },
        {
          "data": {
            "image/png": "[encoded data removed]",
            "text/plain": [
              "<Figure size 1728x432 with 1 Axes>"
            ]
          },
          "metadata": {},
          "output_type": "display_data"
        }
      ],
      "source": [
        "sns.regplot(data=df, x=\"amount\", y=\"time_between_payment\")"
      ]
    },
    {
      "cell_type": "code",
      "execution_count": null,
      "id": "ee084af4",
      "metadata": {
        "id": "ee084af4",
        "outputId": "cde0acbb-e3aa-42d2-cf31-4170157ff706"
      },
      "outputs": [
        {
          "data": {
            "text/html": [
              "<div>\n",
              "<style scoped>\n",
              "    .dataframe tbody tr th:only-of-type {\n",
              "        vertical-align: middle;\n",
              "    }\n",
              "\n",
              "    .dataframe tbody tr th {\n",
              "        vertical-align: top;\n",
              "    }\n",
              "\n",
              "    .dataframe thead th {\n",
              "        text-align: right;\n",
              "    }\n",
              "</style>\n",
              "<table border=\"1\" class=\"dataframe\">\n",
              "  <thead>\n",
              "    <tr style=\"text-align: right;\">\n",
              "      <th></th>\n",
              "      <th>avg_time_between_payment</th>\n",
              "      <th>count</th>\n",
              "      <th>stddev</th>\n",
              "      <th>payment method</th>\n",
              "      <th>state</th>\n",
              "    </tr>\n",
              "  </thead>\n",
              "  <tbody>\n",
              "    <tr>\n",
              "      <th>0</th>\n",
              "      <td>5.250000</td>\n",
              "      <td>20</td>\n",
              "      <td>3.290737</td>\n",
              "      <td>ACH</td>\n",
              "      <td>CA</td>\n",
              "    </tr>\n",
              "    <tr>\n",
              "      <th>1</th>\n",
              "      <td>6.400000</td>\n",
              "      <td>10</td>\n",
              "      <td>3.949684</td>\n",
              "      <td>ACH</td>\n",
              "      <td>NY</td>\n",
              "    </tr>\n",
              "    <tr>\n",
              "      <th>2</th>\n",
              "      <td>1.250000</td>\n",
              "      <td>8</td>\n",
              "      <td>1.581139</td>\n",
              "      <td>credit_card</td>\n",
              "      <td>CA</td>\n",
              "    </tr>\n",
              "    <tr>\n",
              "      <th>3</th>\n",
              "      <td>3.000000</td>\n",
              "      <td>3</td>\n",
              "      <td>3.605551</td>\n",
              "      <td>credit_card</td>\n",
              "      <td>TX</td>\n",
              "    </tr>\n",
              "    <tr>\n",
              "      <th>4</th>\n",
              "      <td>3.166667</td>\n",
              "      <td>6</td>\n",
              "      <td>3.371449</td>\n",
              "      <td>credit_card</td>\n",
              "      <td>NY</td>\n",
              "    </tr>\n",
              "    <tr>\n",
              "      <th>5</th>\n",
              "      <td>3.000000</td>\n",
              "      <td>1</td>\n",
              "      <td>NaN</td>\n",
              "      <td>debit_card</td>\n",
              "      <td>TX</td>\n",
              "    </tr>\n",
              "    <tr>\n",
              "      <th>6</th>\n",
              "      <td>0.000000</td>\n",
              "      <td>3</td>\n",
              "      <td>0.000000</td>\n",
              "      <td>debit_card</td>\n",
              "      <td>CA</td>\n",
              "    </tr>\n",
              "    <tr>\n",
              "      <th>7</th>\n",
              "      <td>3.166667</td>\n",
              "      <td>6</td>\n",
              "      <td>3.188521</td>\n",
              "      <td>debit_card</td>\n",
              "      <td>NY</td>\n",
              "    </tr>\n",
              "    <tr>\n",
              "      <th>8</th>\n",
              "      <td>8.333333</td>\n",
              "      <td>3</td>\n",
              "      <td>1.527525</td>\n",
              "      <td>wire</td>\n",
              "      <td>TX</td>\n",
              "    </tr>\n",
              "    <tr>\n",
              "      <th>9</th>\n",
              "      <td>6.047619</td>\n",
              "      <td>21</td>\n",
              "      <td>2.539216</td>\n",
              "      <td>wire</td>\n",
              "      <td>CA</td>\n",
              "    </tr>\n",
              "    <tr>\n",
              "      <th>10</th>\n",
              "      <td>7.480000</td>\n",
              "      <td>25</td>\n",
              "      <td>2.917190</td>\n",
              "      <td>wire</td>\n",
              "      <td>NY</td>\n",
              "    </tr>\n",
              "  </tbody>\n",
              "</table>\n",
              "</div>"
            ],
            "text/plain": [
              "    avg_time_between_payment  count    stddev payment method state\n",
              "0                   5.250000     20  3.290737            ACH    CA\n",
              "1                   6.400000     10  3.949684            ACH    NY\n",
              "2                   1.250000      8  1.581139    credit_card    CA\n",
              "3                   3.000000      3  3.605551    credit_card    TX\n",
              "4                   3.166667      6  3.371449    credit_card    NY\n",
              "5                   3.000000      1       NaN     debit_card    TX\n",
              "6                   0.000000      3  0.000000     debit_card    CA\n",
              "7                   3.166667      6  3.188521     debit_card    NY\n",
              "8                   8.333333      3  1.527525           wire    TX\n",
              "9                   6.047619     21  2.539216           wire    CA\n",
              "10                  7.480000     25  2.917190           wire    NY"
            ]
          },
          "execution_count": 23,
          "metadata": {},
          "output_type": "execute_result"
        }
      ],
      "source": [
        "#Informtation mapping state frequency and other factors to payment time\n",
        "query = \"\"\"\n",
        "    SELECT \n",
        "        AVG(CAST(paid_at_date AS DATE) - CAST(order_created_date AS DATE)) AS avg_time_between_payment,\n",
        "        COUNT(user),\n",
        "        STDDEV(CAST(paid_at_date AS DATE) - CAST(order_created_date AS DATE)),\n",
        "        \"payment method\",\n",
        "        state\n",
        "    FROM users\n",
        "    INNER JOIN orders ON\n",
        "        users.user = orders.user\n",
        "        WHERE \n",
        "        state NOT LIKE 'AZ' \n",
        "            AND \n",
        "        state NOT LIKE 'FL'\n",
        "    GROUP BY \n",
        "        state, \"payment method\"\n",
        "    ORDER BY\n",
        "        \"payment method\"\n",
        "\"\"\"\n",
        "\n",
        "df = pd.read_sql_query(query, second_connection)\n",
        "df"
      ]
    },
    {
      "cell_type": "markdown",
      "source": [
        "<p>Visualizing relationship between average payment finalization and state</p>\n"
      ],
      "metadata": {
        "id": "s189lj4yNaUJ"
      },
      "id": "s189lj4yNaUJ"
    },
    {
      "cell_type": "code",
      "execution_count": null,
      "id": "9bffb144",
      "metadata": {
        "id": "9bffb144",
        "outputId": "19cab1d5-f65b-4a7e-ee60-29ca8c7c08d7"
      },
      "outputs": [
        {
          "data": {
            "image/png": "[encoded data removed]",
            "text/plain": [
              "<Figure size 1728x432 with 1 Axes>"
            ]
          },
          "metadata": {},
          "output_type": "display_data"
        }
      ],
      "source": [
        "plot = sns.barplot(data=df, x=\"state\", y=\"avg_time_between_payment\")"
      ]
    },
    {
      "cell_type": "markdown",
      "source": [
        "\n"
      ],
      "metadata": {
        "id": "96bbfcb4"
      },
      "id": "96bbfcb4"
    },
    {
      "cell_type": "code",
      "source": [
        "query = \"\"\"\n",
        "    SELECT * FROM payment_between\n",
        "    ORDER BY time_between_payment\n",
        "\"\"\"\n",
        "\n",
        "df = pd.read_sql_query(query, second_connection)\n",
        "df"
      ],
      "metadata": {
        "id": "qUNPdlc4Nu4F"
      },
      "id": "qUNPdlc4Nu4F",
      "execution_count": null,
      "outputs": []
    },
    {
      "cell_type": "code",
      "execution_count": null,
      "id": "c0d49048",
      "metadata": {
        "id": "c0d49048",
        "outputId": "253cf4ea-a203-4b6a-cdc3-c855f3f549f2"
      },
      "outputs": [
        {
          "data": {
            "text/plain": [
              "<AxesSubplot:xlabel='payment method', ylabel='time_between_payment'>"
            ]
          },
          "execution_count": 26,
          "metadata": {},
          "output_type": "execute_result"
        },
        {
          "data": {
            "image/png": "[encoded data removed]",
            "text/plain": [
              "<Figure size 1080x576 with 1 Axes>"
            ]
          },
          "metadata": {},
          "output_type": "display_data"
        }
      ],
      "source": [
        "sns.set(rc = {'figure.figsize':(15,8)})\n",
        "sns.boxplot(x=\"payment method\", y=\"time_between_payment\", hue=\"payment method\", data=df, palette=\"Set3\")"
      ]
    },
    {
      "cell_type": "code",
      "execution_count": null,
      "id": "0dba0469",
      "metadata": {
        "id": "0dba0469",
        "outputId": "1e35508a-c75d-42a8-bb9a-48228f711d35"
      },
      "outputs": [
        {
          "name": "stdout",
          "output_type": "stream",
          "text": [
            "view already exist\n"
          ]
        }
      ],
      "source": [
        "#Creating view that contains variables associated with both state and payment finalization\n",
        "query = \"\"\"\n",
        "    CREATE VIEW state_time_between AS\n",
        "        SELECT \n",
        "            state,\n",
        "            \"payment method\",\n",
        "            CAST(paid_at_date AS DATE) - CAST(order_created_date AS DATE) AS time_between_payment\n",
        "        FROM orders\n",
        "        INNER JOIN users ON\n",
        "            users.user = orders.user\n",
        "        ORDER BY state, \"payment method\", time_between_payment\n",
        "\"\"\"\n",
        "\n",
        "try:\n",
        "    psycopg_cursor.execute(query)\n",
        "    print('view created')\n",
        "except:\n",
        "    print('view already exist')\n"
      ]
    },
    {
      "cell_type": "code",
      "execution_count": null,
      "id": "f6586ce3",
      "metadata": {
        "id": "f6586ce3"
      },
      "outputs": [],
      "source": [
        "query = \"\"\"\n",
        "    SELECT \n",
        "        *\n",
        "    FROM state_time_between\n",
        "    WHERE state LIKE 'CA'\n",
        "\"\"\"\n",
        "ca = pd.read_sql_query(query, second_connection)\n",
        "\n",
        "query = \"\"\"\n",
        "    SELECT \n",
        "        *\n",
        "    FROM state_time_between\n",
        "    WHERE state LIKE 'NY'\n",
        "\"\"\"\n",
        "ny = pd.read_sql_query(query, second_connection)"
      ]
    },
    {
      "cell_type": "code",
      "execution_count": null,
      "id": "38f198c0",
      "metadata": {
        "id": "38f198c0",
        "outputId": "9249aa34-e4a4-456d-9873-f890b7817ef5"
      },
      "outputs": [
        {
          "data": {
            "text/plain": [
              "Text(0.5, 1.0, 'California Payment Delay')"
            ]
          },
          "execution_count": 29,
          "metadata": {},
          "output_type": "execute_result"
        },
        {
          "data": {
            "image/png": "[encoded data removed]",
            "text/plain": [
              "<Figure size 720x576 with 1 Axes>"
            ]
          },
          "metadata": {},
          "output_type": "display_data"
        }
      ],
      "source": [
        "sns.set(rc = {'figure.figsize':(10,8)})\n",
        "plot = sns.scatterplot(data=ca, x=\"payment method\", y=\"time_between_payment\")\n",
        "plot.set_title('California Payment Delay', fontsize = 20)"
      ]
    },
    {
      "cell_type": "code",
      "execution_count": null,
      "id": "fbfd4380",
      "metadata": {
        "id": "fbfd4380",
        "outputId": "7c089635-af21-4c0b-dd23-07516f1c7172"
      },
      "outputs": [
        {
          "data": {
            "text/plain": [
              "Text(0.5, 1.0, 'New York Payment Delay')"
            ]
          },
          "execution_count": 30,
          "metadata": {},
          "output_type": "execute_result"
        },
        {
          "data": {
            "image/png": "[encoded data removed]",
            "text/plain": [
              "<Figure size 720x576 with 1 Axes>"
            ]
          },
          "metadata": {},
          "output_type": "display_data"
        }
      ],
      "source": [
        "plot = sns.scatterplot(data=ny, x=\"payment method\", y=\"time_between_payment\")\n",
        "plot.set_title('New York Payment Delay', fontsize = 20)"
      ]
    },
    {
      "cell_type": "code",
      "execution_count": null,
      "id": "96b7684b",
      "metadata": {
        "id": "96b7684b",
        "outputId": "b4661fe9-67f7-4bb7-9d39-eacd60cb5880"
      },
      "outputs": [
        {
          "data": {
            "image/png": "[encoded data removed]",
            "text/plain": [
              "<Figure size 720x576 with 1 Axes>"
            ]
          },
          "metadata": {},
          "output_type": "display_data"
        }
      ],
      "source": [
        "query = \"\"\"\n",
        "    SELECT \n",
        "        COUNT(\"payment method\"),\n",
        "        \"payment method\"\n",
        "    FROM state_time_between\n",
        "    GROUP BY \"payment method\"\n",
        "\"\"\"\n",
        "df = pd.read_sql_query(query, second_connection)\n",
        "df\n",
        "plt.pie(data= df, x = 'count', labels = \"payment method\", explode=[0.05]*4, autopct='%.0f%%')\n",
        "plt.title(\"Investors per State\", fontsize=14);\n",
        "plt.show()"
      ]
    },
    {
      "cell_type": "code",
      "execution_count": null,
      "id": "41f9b5bd",
      "metadata": {
        "id": "41f9b5bd",
        "outputId": "c4696a54-f932-42df-cc2d-8af27356f13a"
      },
      "outputs": [
        {
          "data": {
            "text/html": [
              "<div>\n",
              "<style scoped>\n",
              "    .dataframe tbody tr th:only-of-type {\n",
              "        vertical-align: middle;\n",
              "    }\n",
              "\n",
              "    .dataframe tbody tr th {\n",
              "        vertical-align: top;\n",
              "    }\n",
              "\n",
              "    .dataframe thead th {\n",
              "        text-align: right;\n",
              "    }\n",
              "</style>\n",
              "<table border=\"1\" class=\"dataframe\">\n",
              "  <thead>\n",
              "    <tr style=\"text-align: right;\">\n",
              "      <th></th>\n",
              "      <th>time_between_payment</th>\n",
              "      <th>payment method</th>\n",
              "    </tr>\n",
              "  </thead>\n",
              "  <tbody>\n",
              "    <tr>\n",
              "      <th>0</th>\n",
              "      <td>8</td>\n",
              "      <td>ACH</td>\n",
              "    </tr>\n",
              "    <tr>\n",
              "      <th>1</th>\n",
              "      <td>0</td>\n",
              "      <td>ACH</td>\n",
              "    </tr>\n",
              "    <tr>\n",
              "      <th>2</th>\n",
              "      <td>1</td>\n",
              "      <td>ACH</td>\n",
              "    </tr>\n",
              "    <tr>\n",
              "      <th>3</th>\n",
              "      <td>1</td>\n",
              "      <td>ACH</td>\n",
              "    </tr>\n",
              "    <tr>\n",
              "      <th>4</th>\n",
              "      <td>1</td>\n",
              "      <td>ACH</td>\n",
              "    </tr>\n",
              "    <tr>\n",
              "      <th>...</th>\n",
              "      <td>...</td>\n",
              "      <td>...</td>\n",
              "    </tr>\n",
              "    <tr>\n",
              "      <th>104</th>\n",
              "      <td>7</td>\n",
              "      <td>credit_card</td>\n",
              "    </tr>\n",
              "    <tr>\n",
              "      <th>105</th>\n",
              "      <td>3</td>\n",
              "      <td>debit_card</td>\n",
              "    </tr>\n",
              "    <tr>\n",
              "      <th>106</th>\n",
              "      <td>7</td>\n",
              "      <td>wire</td>\n",
              "    </tr>\n",
              "    <tr>\n",
              "      <th>107</th>\n",
              "      <td>8</td>\n",
              "      <td>wire</td>\n",
              "    </tr>\n",
              "    <tr>\n",
              "      <th>108</th>\n",
              "      <td>10</td>\n",
              "      <td>wire</td>\n",
              "    </tr>\n",
              "  </tbody>\n",
              "</table>\n",
              "<p>109 rows × 2 columns</p>\n",
              "</div>"
            ],
            "text/plain": [
              "     time_between_payment payment method\n",
              "0                       8            ACH\n",
              "1                       0            ACH\n",
              "2                       1            ACH\n",
              "3                       1            ACH\n",
              "4                       1            ACH\n",
              "..                    ...            ...\n",
              "104                     7    credit_card\n",
              "105                     3     debit_card\n",
              "106                     7           wire\n",
              "107                     8           wire\n",
              "108                    10           wire\n",
              "\n",
              "[109 rows x 2 columns]"
            ]
          },
          "execution_count": 32,
          "metadata": {},
          "output_type": "execute_result"
        }
      ],
      "source": [
        "query = \"\"\"\n",
        "    SELECT \n",
        "        time_between_payment,\n",
        "        \"payment method\"\n",
        "    FROM state_time_between\n",
        "\"\"\"\n",
        "df = pd.read_sql_query(query, second_connection)\n",
        "df"
      ]
    },
    {
      "cell_type": "code",
      "execution_count": null,
      "id": "085afd8b",
      "metadata": {
        "id": "085afd8b",
        "outputId": "631ea26f-8e0c-4e0c-b14a-51a85ce11dcf"
      },
      "outputs": [
        {
          "data": {
            "text/plain": [
              "Text(0.5, 0, 'debit')"
            ]
          },
          "execution_count": 33,
          "metadata": {},
          "output_type": "execute_result"
        },
        {
          "data": {
            "image/png": "[encoded data removed]",
            "text/plain": [
              "<Figure size 1728x432 with 4 Axes>"
            ]
          },
          "metadata": {},
          "output_type": "display_data"
        }
      ],
      "source": [
        "#Seaborn Visual\n",
        "sns.set(rc = {'figure.figsize':(24,6)})\n",
        "fig, (ax1, ax2, ax3, ax4) = plt.subplots(ncols=4, sharey=False)\n",
        "\n",
        "first = plot = sns.histplot(data=df[df['payment method'].isin(['ACH'])], ax=ax1, kde=True)\n",
        "plot.set_xlabel(\"ACH\", fontsize = 16)\n",
        "\n",
        "second = plot = sns.histplot(data=df[df['payment method'].isin(['wire'])], kde=True, ax=ax2)\n",
        "plot.set_xlabel(\"wire\", fontsize = 16)\n",
        "\n",
        "third = plot = sns.histplot(data=df[df['payment method'].isin(['credit_card'])], ax=ax3, kde=True)\n",
        "plot.set_xlabel(\"credit\", fontsize = 16)\n",
        "\n",
        "fourth = plot = sns.histplot(data=df[df['payment method'].isin(['debit_card'])], kde=True, ax=ax4)\n",
        "plot.set_xlabel(\"debit\", fontsize = 16)"
      ]
    },
    {
      "cell_type": "code",
      "execution_count": null,
      "id": "196f7c51",
      "metadata": {
        "id": "196f7c51",
        "outputId": "3c2d79f9-2f92-4fb1-bb6a-41a726223ab7"
      },
      "outputs": [
        {
          "data": {
            "text/html": [
              "<div>\n",
              "<style scoped>\n",
              "    .dataframe tbody tr th:only-of-type {\n",
              "        vertical-align: middle;\n",
              "    }\n",
              "\n",
              "    .dataframe tbody tr th {\n",
              "        vertical-align: top;\n",
              "    }\n",
              "\n",
              "    .dataframe thead th {\n",
              "        text-align: right;\n",
              "    }\n",
              "</style>\n",
              "<table border=\"1\" class=\"dataframe\">\n",
              "  <thead>\n",
              "    <tr style=\"text-align: right;\">\n",
              "      <th></th>\n",
              "      <th>max</th>\n",
              "      <th>min</th>\n",
              "      <th>avg</th>\n",
              "      <th>std_dev</th>\n",
              "      <th>count</th>\n",
              "      <th>payment method</th>\n",
              "    </tr>\n",
              "  </thead>\n",
              "  <tbody>\n",
              "    <tr>\n",
              "      <th>0</th>\n",
              "      <td>10</td>\n",
              "      <td>0</td>\n",
              "      <td>5.969697</td>\n",
              "      <td>3.477471</td>\n",
              "      <td>33</td>\n",
              "      <td>ACH</td>\n",
              "    </tr>\n",
              "    <tr>\n",
              "      <th>1</th>\n",
              "      <td>9</td>\n",
              "      <td>0</td>\n",
              "      <td>2.222222</td>\n",
              "      <td>2.602161</td>\n",
              "      <td>18</td>\n",
              "      <td>credit_card</td>\n",
              "    </tr>\n",
              "    <tr>\n",
              "      <th>2</th>\n",
              "      <td>9</td>\n",
              "      <td>0</td>\n",
              "      <td>2.200000</td>\n",
              "      <td>2.820559</td>\n",
              "      <td>10</td>\n",
              "      <td>debit_card</td>\n",
              "    </tr>\n",
              "    <tr>\n",
              "      <th>3</th>\n",
              "      <td>11</td>\n",
              "      <td>1</td>\n",
              "      <td>6.918367</td>\n",
              "      <td>2.767646</td>\n",
              "      <td>49</td>\n",
              "      <td>wire</td>\n",
              "    </tr>\n",
              "  </tbody>\n",
              "</table>\n",
              "</div>"
            ],
            "text/plain": [
              "   max  min       avg   std_dev  count payment method\n",
              "0   10    0  5.969697  3.477471     33            ACH\n",
              "1    9    0  2.222222  2.602161     18    credit_card\n",
              "2    9    0  2.200000  2.820559     10     debit_card\n",
              "3   11    1  6.918367  2.767646     49           wire"
            ]
          },
          "execution_count": 34,
          "metadata": {},
          "output_type": "execute_result"
        }
      ],
      "source": [
        "query = \"\"\"\n",
        "    SELECT \n",
        "        MAX(time_between_payment),\n",
        "        MIN(time_between_payment),\n",
        "        AVG(time_between_payment),\n",
        "        STDDEV(time_between_payment) AS std_dev,\n",
        "        COUNT(time_between_payment),\n",
        "        \"payment method\"\n",
        "    FROM payment_between\n",
        "    GROUP BY \"payment method\"\n",
        "    ORDER BY \"payment method\"\n",
        "\"\"\"\n",
        "\n",
        "valuable_data = pd.read_sql_query(query, second_connection)\n",
        "valuable_data"
      ]
    },
    {
      "cell_type": "markdown",
      "id": "912e3f14",
      "metadata": {
        "id": "912e3f14"
      },
      "source": [
        "<p>\n",
        "    Based off the histograms and the table above, it seems that the presence of ACH and wire payments are major causes for long payment delays\n",
        "</p>"
      ]
    },
    {
      "cell_type": "code",
      "execution_count": null,
      "id": "b46ecc4a",
      "metadata": {
        "id": "b46ecc4a",
        "outputId": "ca3749b0-6acc-452b-9a3f-b0cf642131e6"
      },
      "outputs": [
        {
          "data": {
            "text/html": [
              "<div>\n",
              "<style scoped>\n",
              "    .dataframe tbody tr th:only-of-type {\n",
              "        vertical-align: middle;\n",
              "    }\n",
              "\n",
              "    .dataframe tbody tr th {\n",
              "        vertical-align: top;\n",
              "    }\n",
              "\n",
              "    .dataframe thead th {\n",
              "        text-align: right;\n",
              "    }\n",
              "</style>\n",
              "<table border=\"1\" class=\"dataframe\">\n",
              "  <thead>\n",
              "    <tr style=\"text-align: right;\">\n",
              "      <th></th>\n",
              "      <th>time_between_payment</th>\n",
              "      <th>payment method</th>\n",
              "    </tr>\n",
              "  </thead>\n",
              "  <tbody>\n",
              "    <tr>\n",
              "      <th>0</th>\n",
              "      <td>8</td>\n",
              "      <td>ACH</td>\n",
              "    </tr>\n",
              "    <tr>\n",
              "      <th>1</th>\n",
              "      <td>0</td>\n",
              "      <td>ACH</td>\n",
              "    </tr>\n",
              "    <tr>\n",
              "      <th>2</th>\n",
              "      <td>1</td>\n",
              "      <td>ACH</td>\n",
              "    </tr>\n",
              "    <tr>\n",
              "      <th>3</th>\n",
              "      <td>1</td>\n",
              "      <td>ACH</td>\n",
              "    </tr>\n",
              "    <tr>\n",
              "      <th>4</th>\n",
              "      <td>1</td>\n",
              "      <td>ACH</td>\n",
              "    </tr>\n",
              "    <tr>\n",
              "      <th>...</th>\n",
              "      <td>...</td>\n",
              "      <td>...</td>\n",
              "    </tr>\n",
              "    <tr>\n",
              "      <th>104</th>\n",
              "      <td>7</td>\n",
              "      <td>credit_card</td>\n",
              "    </tr>\n",
              "    <tr>\n",
              "      <th>105</th>\n",
              "      <td>3</td>\n",
              "      <td>debit_card</td>\n",
              "    </tr>\n",
              "    <tr>\n",
              "      <th>106</th>\n",
              "      <td>7</td>\n",
              "      <td>wire</td>\n",
              "    </tr>\n",
              "    <tr>\n",
              "      <th>107</th>\n",
              "      <td>8</td>\n",
              "      <td>wire</td>\n",
              "    </tr>\n",
              "    <tr>\n",
              "      <th>108</th>\n",
              "      <td>10</td>\n",
              "      <td>wire</td>\n",
              "    </tr>\n",
              "  </tbody>\n",
              "</table>\n",
              "<p>109 rows × 2 columns</p>\n",
              "</div>"
            ],
            "text/plain": [
              "     time_between_payment payment method\n",
              "0                       8            ACH\n",
              "1                       0            ACH\n",
              "2                       1            ACH\n",
              "3                       1            ACH\n",
              "4                       1            ACH\n",
              "..                    ...            ...\n",
              "104                     7    credit_card\n",
              "105                     3     debit_card\n",
              "106                     7           wire\n",
              "107                     8           wire\n",
              "108                    10           wire\n",
              "\n",
              "[109 rows x 2 columns]"
            ]
          },
          "execution_count": 35,
          "metadata": {},
          "output_type": "execute_result"
        }
      ],
      "source": [
        "query = \"\"\"\n",
        "    SELECT \n",
        "        time_between_payment,\n",
        "        \"payment method\"\n",
        "    FROM state_time_between\n",
        "\"\"\"\n",
        "df = pd.read_sql_query(query, second_connection)\n",
        "df"
      ]
    },
    {
      "cell_type": "markdown",
      "id": "639605e7",
      "metadata": {
        "id": "639605e7"
      },
      "source": [
        "<h1>Analysis</h1>\n",
        "<p>\n",
        "    Right now, it seems that ACH and wire payments take the most amount of time to finalize. Using two tail t-testing, it's possible to test whether ACH and wire payments have a statistically significant longer transaction rate on average compared to the other payments. If the t-value is relatively high and the p-value is below 0.05 (in this case, it would actually be 0.05/6 [0.008] because of the Bonferroni Correction), then the means between two payment methods are significant and there impact on the transaction finalization is notably different.\n",
        "</p>"
      ]
    },
    {
      "cell_type": "code",
      "execution_count": null,
      "id": "6fafec6c",
      "metadata": {
        "id": "6fafec6c",
        "outputId": "aa475a21-6da2-4476-c041-ef12ec674857"
      },
      "outputs": [
        {
          "data": {
            "text/html": [
              "<div>\n",
              "<style scoped>\n",
              "    .dataframe tbody tr th:only-of-type {\n",
              "        vertical-align: middle;\n",
              "    }\n",
              "\n",
              "    .dataframe tbody tr th {\n",
              "        vertical-align: top;\n",
              "    }\n",
              "\n",
              "    .dataframe thead th {\n",
              "        text-align: right;\n",
              "    }\n",
              "</style>\n",
              "<table border=\"1\" class=\"dataframe\">\n",
              "  <thead>\n",
              "    <tr style=\"text-align: right;\">\n",
              "      <th></th>\n",
              "      <th>statistic</th>\n",
              "      <th>p_value</th>\n",
              "      <th>test</th>\n",
              "    </tr>\n",
              "  </thead>\n",
              "  <tbody>\n",
              "    <tr>\n",
              "      <th>0</th>\n",
              "      <td>1.642310</td>\n",
              "      <td>1.045007e-01</td>\n",
              "      <td>ACH &amp; WIRE</td>\n",
              "    </tr>\n",
              "    <tr>\n",
              "      <th>1</th>\n",
              "      <td>-3.817644</td>\n",
              "      <td>3.860558e-04</td>\n",
              "      <td>ACH &amp; CREDIT_CARD</td>\n",
              "    </tr>\n",
              "    <tr>\n",
              "      <th>2</th>\n",
              "      <td>-2.990474</td>\n",
              "      <td>4.749408e-03</td>\n",
              "      <td>ACH &amp; DEBIT_CARD</td>\n",
              "    </tr>\n",
              "    <tr>\n",
              "      <th>3</th>\n",
              "      <td>0.021025</td>\n",
              "      <td>9.833858e-01</td>\n",
              "      <td>CREDIT_CARD &amp; DEBIT_CARD</td>\n",
              "    </tr>\n",
              "    <tr>\n",
              "      <th>4</th>\n",
              "      <td>-6.251992</td>\n",
              "      <td>3.552550e-08</td>\n",
              "      <td>CREDIT_CARD &amp; WIRE</td>\n",
              "    </tr>\n",
              "    <tr>\n",
              "      <th>5</th>\n",
              "      <td>-4.898169</td>\n",
              "      <td>8.357235e-06</td>\n",
              "      <td>DEBIT_CARD &amp; WIRE</td>\n",
              "    </tr>\n",
              "  </tbody>\n",
              "</table>\n",
              "</div>"
            ],
            "text/plain": [
              "   statistic       p_value                      test\n",
              "0   1.642310  1.045007e-01                ACH & WIRE\n",
              "1  -3.817644  3.860558e-04         ACH & CREDIT_CARD\n",
              "2  -2.990474  4.749408e-03          ACH & DEBIT_CARD\n",
              "3   0.021025  9.833858e-01  CREDIT_CARD & DEBIT_CARD\n",
              "4  -6.251992  3.552550e-08        CREDIT_CARD & WIRE\n",
              "5  -4.898169  8.357235e-06         DEBIT_CARD & WIRE"
            ]
          },
          "execution_count": 36,
          "metadata": {},
          "output_type": "execute_result"
        }
      ],
      "source": [
        "\n",
        "ach = df[df['payment method'].isin(['ACH'])]['time_between_payment']\n",
        "wire = df[df['payment method'].isin(['wire'])]['time_between_payment']\n",
        "a, b = ttest_ind(wire, ach)\n",
        "t_test_data = [[a, b, 'ACH & WIRE']]\n",
        "\n",
        "ach = df[df['payment method'].isin(['ACH'])]['time_between_payment']\n",
        "credit = df[df['payment method'].isin(['credit_card'])]['time_between_payment']\n",
        "a, b = ttest_ind(credit, ach)\n",
        "t_test_data.append([a,b,'ACH & CREDIT_CARD'])\n",
        "\n",
        "ach = df[df['payment method'].isin(['ACH'])]['time_between_payment']\n",
        "debit = df[df['payment method'].isin(['debit_card'])]['time_between_payment']\n",
        "a, b = ttest_ind(debit, ach)\n",
        "t_test_data.append([a,b,'ACH & DEBIT_CARD'])\n",
        "\n",
        "credit = df[df['payment method'].isin(['credit_card'])]['time_between_payment']\n",
        "debit = df[df['payment method'].isin(['debit_card'])]['time_between_payment']\n",
        "a, b = ttest_ind(credit, debit)\n",
        "t_test_data.append([a,b,'CREDIT_CARD & DEBIT_CARD'])\n",
        "\n",
        "credit = df[df['payment method'].isin(['credit_card'])]['time_between_payment']\n",
        "wire = df[df['payment method'].isin(['wire'])]['time_between_payment']\n",
        "a, b = ttest_ind(credit, wire)\n",
        "t_test_data.append([a,b,'CREDIT_CARD & WIRE'])\n",
        "\n",
        "debit = df[df['payment method'].isin(['debit_card'])]['time_between_payment']\n",
        "wire = df[df['payment method'].isin(['wire'])]['time_between_payment']\n",
        "a, b = ttest_ind(debit, wire)\n",
        "t_test_data.append([a,b,'DEBIT_CARD & WIRE'])\n",
        "\n",
        "pd.DataFrame(t_test_data, columns=['statistic','p_value','test'])\n"
      ]
    },
    {
      "cell_type": "code",
      "execution_count": null,
      "id": "49e51416",
      "metadata": {
        "id": "49e51416",
        "outputId": "a57904dc-6ba2-4920-8ded-6065f3a8d063"
      },
      "outputs": [
        {
          "data": {
            "text/html": [
              "<div>\n",
              "<style scoped>\n",
              "    .dataframe tbody tr th:only-of-type {\n",
              "        vertical-align: middle;\n",
              "    }\n",
              "\n",
              "    .dataframe tbody tr th {\n",
              "        vertical-align: top;\n",
              "    }\n",
              "\n",
              "    .dataframe thead th {\n",
              "        text-align: right;\n",
              "    }\n",
              "</style>\n",
              "<table border=\"1\" class=\"dataframe\">\n",
              "  <thead>\n",
              "    <tr style=\"text-align: right;\">\n",
              "      <th></th>\n",
              "      <th>max</th>\n",
              "      <th>min</th>\n",
              "      <th>avg</th>\n",
              "      <th>std_dev</th>\n",
              "      <th>count</th>\n",
              "      <th>payment method</th>\n",
              "    </tr>\n",
              "  </thead>\n",
              "  <tbody>\n",
              "    <tr>\n",
              "      <th>0</th>\n",
              "      <td>10</td>\n",
              "      <td>0</td>\n",
              "      <td>5.969697</td>\n",
              "      <td>3.477471</td>\n",
              "      <td>33</td>\n",
              "      <td>ACH</td>\n",
              "    </tr>\n",
              "    <tr>\n",
              "      <th>1</th>\n",
              "      <td>9</td>\n",
              "      <td>0</td>\n",
              "      <td>2.222222</td>\n",
              "      <td>2.602161</td>\n",
              "      <td>18</td>\n",
              "      <td>credit_card</td>\n",
              "    </tr>\n",
              "    <tr>\n",
              "      <th>2</th>\n",
              "      <td>9</td>\n",
              "      <td>0</td>\n",
              "      <td>2.200000</td>\n",
              "      <td>2.820559</td>\n",
              "      <td>10</td>\n",
              "      <td>debit_card</td>\n",
              "    </tr>\n",
              "    <tr>\n",
              "      <th>3</th>\n",
              "      <td>11</td>\n",
              "      <td>1</td>\n",
              "      <td>6.918367</td>\n",
              "      <td>2.767646</td>\n",
              "      <td>49</td>\n",
              "      <td>wire</td>\n",
              "    </tr>\n",
              "  </tbody>\n",
              "</table>\n",
              "</div>"
            ],
            "text/plain": [
              "   max  min       avg   std_dev  count payment method\n",
              "0   10    0  5.969697  3.477471     33            ACH\n",
              "1    9    0  2.222222  2.602161     18    credit_card\n",
              "2    9    0  2.200000  2.820559     10     debit_card\n",
              "3   11    1  6.918367  2.767646     49           wire"
            ]
          },
          "execution_count": 37,
          "metadata": {},
          "output_type": "execute_result"
        }
      ],
      "source": [
        "valuable_data"
      ]
    },
    {
      "cell_type": "markdown",
      "id": "d4d26815",
      "metadata": {
        "id": "d4d26815"
      },
      "source": [
        "<h1>Part 2B Conclusion</h1>\n",
        "<p>Based off the data, it seems that ACH and wire payments are a major predictor of payment delays. ACH and wire payments takes on average values of ~6 and ~7 days, respectively. Credit and debit cards take rougly 3 days to finalize on average. The series of t-tests done indicate that these differences are notable and greatly impact payment times</p>\n",
        "\n",
        "<p>With the limited data set available and the many variables that must be accounted for, it probably would not be practical to go through the process of modeling. Its still possible to build a multiple variable regression model, but it would not be terribly accurate.\n",
        "</p>"
      ]
    },
    {
      "cell_type": "code",
      "execution_count": null,
      "id": "61c62190",
      "metadata": {
        "id": "61c62190",
        "outputId": "e4306fe5-276b-4b2e-83fe-c55f3109ccd6"
      },
      "outputs": [
        {
          "name": "stdout",
          "output_type": "stream",
          "text": [
            "disconnected from database\n"
          ]
        }
      ],
      "source": [
        "second_connection.close()\n",
        "print('disconnected from database')"
      ]
    }
  ],
  "metadata": {
    "kernelspec": {
      "display_name": "Python 3",
      "language": "python",
      "name": "python3"
    },
    "language_info": {
      "codemirror_mode": {
        "name": "ipython",
        "version": 3
      },
      "file_extension": ".py",
      "mimetype": "text/x-python",
      "name": "python",
      "nbconvert_exporter": "python",
      "pygments_lexer": "ipython3",
      "version": "3.8.8"
    },
    "colab": {
      "name": "Masterworks.ipynb",
      "provenance": [],
      "collapsed_sections": [],
      "include_colab_link": true
    }
  },
  "nbformat": 4,
  "nbformat_minor": 5
}